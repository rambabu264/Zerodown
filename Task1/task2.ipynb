{
  "nbformat": 4,
  "nbformat_minor": 0,
  "metadata": {
    "colab": {
      "name": "task2.ipynb",
      "provenance": []
    },
    "kernelspec": {
      "name": "python3",
      "display_name": "Python 3"
    },
    "language_info": {
      "name": "python"
    }
  },
  "cells": [
    {
      "cell_type": "code",
      "execution_count": 1,
      "metadata": {
        "colab": {
          "base_uri": "https://localhost:8080/"
        },
        "id": "_rBNaYv3rXFn",
        "outputId": "3e0d4426-2165-4484-dd52-7cbd3aef022e"
      },
      "outputs": [
        {
          "output_type": "stream",
          "name": "stdout",
          "text": [
            "Collecting geopandas\n",
            "  Downloading geopandas-0.10.2-py2.py3-none-any.whl (1.0 MB)\n",
            "\u001b[?25l\r\u001b[K     |▎                               | 10 kB 23.5 MB/s eta 0:00:01\r\u001b[K     |▋                               | 20 kB 33.7 MB/s eta 0:00:01\r\u001b[K     |█                               | 30 kB 28.4 MB/s eta 0:00:01\r\u001b[K     |█▎                              | 40 kB 21.6 MB/s eta 0:00:01\r\u001b[K     |█▋                              | 51 kB 14.4 MB/s eta 0:00:01\r\u001b[K     |██                              | 61 kB 16.8 MB/s eta 0:00:01\r\u001b[K     |██▎                             | 71 kB 14.8 MB/s eta 0:00:01\r\u001b[K     |██▌                             | 81 kB 13.9 MB/s eta 0:00:01\r\u001b[K     |██▉                             | 92 kB 15.3 MB/s eta 0:00:01\r\u001b[K     |███▏                            | 102 kB 13.9 MB/s eta 0:00:01\r\u001b[K     |███▌                            | 112 kB 13.9 MB/s eta 0:00:01\r\u001b[K     |███▉                            | 122 kB 13.9 MB/s eta 0:00:01\r\u001b[K     |████▏                           | 133 kB 13.9 MB/s eta 0:00:01\r\u001b[K     |████▌                           | 143 kB 13.9 MB/s eta 0:00:01\r\u001b[K     |████▊                           | 153 kB 13.9 MB/s eta 0:00:01\r\u001b[K     |█████                           | 163 kB 13.9 MB/s eta 0:00:01\r\u001b[K     |█████▍                          | 174 kB 13.9 MB/s eta 0:00:01\r\u001b[K     |█████▊                          | 184 kB 13.9 MB/s eta 0:00:01\r\u001b[K     |██████                          | 194 kB 13.9 MB/s eta 0:00:01\r\u001b[K     |██████▍                         | 204 kB 13.9 MB/s eta 0:00:01\r\u001b[K     |██████▊                         | 215 kB 13.9 MB/s eta 0:00:01\r\u001b[K     |███████                         | 225 kB 13.9 MB/s eta 0:00:01\r\u001b[K     |███████▎                        | 235 kB 13.9 MB/s eta 0:00:01\r\u001b[K     |███████▋                        | 245 kB 13.9 MB/s eta 0:00:01\r\u001b[K     |████████                        | 256 kB 13.9 MB/s eta 0:00:01\r\u001b[K     |████████▎                       | 266 kB 13.9 MB/s eta 0:00:01\r\u001b[K     |████████▋                       | 276 kB 13.9 MB/s eta 0:00:01\r\u001b[K     |█████████                       | 286 kB 13.9 MB/s eta 0:00:01\r\u001b[K     |█████████▏                      | 296 kB 13.9 MB/s eta 0:00:01\r\u001b[K     |█████████▌                      | 307 kB 13.9 MB/s eta 0:00:01\r\u001b[K     |█████████▉                      | 317 kB 13.9 MB/s eta 0:00:01\r\u001b[K     |██████████▏                     | 327 kB 13.9 MB/s eta 0:00:01\r\u001b[K     |██████████▌                     | 337 kB 13.9 MB/s eta 0:00:01\r\u001b[K     |██████████▉                     | 348 kB 13.9 MB/s eta 0:00:01\r\u001b[K     |███████████▏                    | 358 kB 13.9 MB/s eta 0:00:01\r\u001b[K     |███████████▍                    | 368 kB 13.9 MB/s eta 0:00:01\r\u001b[K     |███████████▊                    | 378 kB 13.9 MB/s eta 0:00:01\r\u001b[K     |████████████                    | 389 kB 13.9 MB/s eta 0:00:01\r\u001b[K     |████████████▍                   | 399 kB 13.9 MB/s eta 0:00:01\r\u001b[K     |████████████▊                   | 409 kB 13.9 MB/s eta 0:00:01\r\u001b[K     |█████████████                   | 419 kB 13.9 MB/s eta 0:00:01\r\u001b[K     |█████████████▍                  | 430 kB 13.9 MB/s eta 0:00:01\r\u001b[K     |█████████████▋                  | 440 kB 13.9 MB/s eta 0:00:01\r\u001b[K     |██████████████                  | 450 kB 13.9 MB/s eta 0:00:01\r\u001b[K     |██████████████▎                 | 460 kB 13.9 MB/s eta 0:00:01\r\u001b[K     |██████████████▋                 | 471 kB 13.9 MB/s eta 0:00:01\r\u001b[K     |███████████████                 | 481 kB 13.9 MB/s eta 0:00:01\r\u001b[K     |███████████████▎                | 491 kB 13.9 MB/s eta 0:00:01\r\u001b[K     |███████████████▋                | 501 kB 13.9 MB/s eta 0:00:01\r\u001b[K     |███████████████▉                | 512 kB 13.9 MB/s eta 0:00:01\r\u001b[K     |████████████████▏               | 522 kB 13.9 MB/s eta 0:00:01\r\u001b[K     |████████████████▌               | 532 kB 13.9 MB/s eta 0:00:01\r\u001b[K     |████████████████▉               | 542 kB 13.9 MB/s eta 0:00:01\r\u001b[K     |█████████████████▏              | 552 kB 13.9 MB/s eta 0:00:01\r\u001b[K     |█████████████████▌              | 563 kB 13.9 MB/s eta 0:00:01\r\u001b[K     |█████████████████▉              | 573 kB 13.9 MB/s eta 0:00:01\r\u001b[K     |██████████████████              | 583 kB 13.9 MB/s eta 0:00:01\r\u001b[K     |██████████████████▍             | 593 kB 13.9 MB/s eta 0:00:01\r\u001b[K     |██████████████████▊             | 604 kB 13.9 MB/s eta 0:00:01\r\u001b[K     |███████████████████             | 614 kB 13.9 MB/s eta 0:00:01\r\u001b[K     |███████████████████▍            | 624 kB 13.9 MB/s eta 0:00:01\r\u001b[K     |███████████████████▊            | 634 kB 13.9 MB/s eta 0:00:01\r\u001b[K     |████████████████████            | 645 kB 13.9 MB/s eta 0:00:01\r\u001b[K     |████████████████████▎           | 655 kB 13.9 MB/s eta 0:00:01\r\u001b[K     |████████████████████▋           | 665 kB 13.9 MB/s eta 0:00:01\r\u001b[K     |█████████████████████           | 675 kB 13.9 MB/s eta 0:00:01\r\u001b[K     |█████████████████████▎          | 686 kB 13.9 MB/s eta 0:00:01\r\u001b[K     |█████████████████████▋          | 696 kB 13.9 MB/s eta 0:00:01\r\u001b[K     |██████████████████████          | 706 kB 13.9 MB/s eta 0:00:01\r\u001b[K     |██████████████████████▎         | 716 kB 13.9 MB/s eta 0:00:01\r\u001b[K     |██████████████████████▋         | 727 kB 13.9 MB/s eta 0:00:01\r\u001b[K     |██████████████████████▉         | 737 kB 13.9 MB/s eta 0:00:01\r\u001b[K     |███████████████████████▏        | 747 kB 13.9 MB/s eta 0:00:01\r\u001b[K     |███████████████████████▌        | 757 kB 13.9 MB/s eta 0:00:01\r\u001b[K     |███████████████████████▉        | 768 kB 13.9 MB/s eta 0:00:01\r\u001b[K     |████████████████████████▏       | 778 kB 13.9 MB/s eta 0:00:01\r\u001b[K     |████████████████████████▌       | 788 kB 13.9 MB/s eta 0:00:01\r\u001b[K     |████████████████████████▉       | 798 kB 13.9 MB/s eta 0:00:01\r\u001b[K     |█████████████████████████       | 808 kB 13.9 MB/s eta 0:00:01\r\u001b[K     |█████████████████████████▍      | 819 kB 13.9 MB/s eta 0:00:01\r\u001b[K     |█████████████████████████▊      | 829 kB 13.9 MB/s eta 0:00:01\r\u001b[K     |██████████████████████████      | 839 kB 13.9 MB/s eta 0:00:01\r\u001b[K     |██████████████████████████▍     | 849 kB 13.9 MB/s eta 0:00:01\r\u001b[K     |██████████████████████████▊     | 860 kB 13.9 MB/s eta 0:00:01\r\u001b[K     |███████████████████████████     | 870 kB 13.9 MB/s eta 0:00:01\r\u001b[K     |███████████████████████████▎    | 880 kB 13.9 MB/s eta 0:00:01\r\u001b[K     |███████████████████████████▋    | 890 kB 13.9 MB/s eta 0:00:01\r\u001b[K     |████████████████████████████    | 901 kB 13.9 MB/s eta 0:00:01\r\u001b[K     |████████████████████████████▎   | 911 kB 13.9 MB/s eta 0:00:01\r\u001b[K     |████████████████████████████▋   | 921 kB 13.9 MB/s eta 0:00:01\r\u001b[K     |█████████████████████████████   | 931 kB 13.9 MB/s eta 0:00:01\r\u001b[K     |█████████████████████████████▎  | 942 kB 13.9 MB/s eta 0:00:01\r\u001b[K     |█████████████████████████████▌  | 952 kB 13.9 MB/s eta 0:00:01\r\u001b[K     |█████████████████████████████▉  | 962 kB 13.9 MB/s eta 0:00:01\r\u001b[K     |██████████████████████████████▏ | 972 kB 13.9 MB/s eta 0:00:01\r\u001b[K     |██████████████████████████████▌ | 983 kB 13.9 MB/s eta 0:00:01\r\u001b[K     |██████████████████████████████▉ | 993 kB 13.9 MB/s eta 0:00:01\r\u001b[K     |███████████████████████████████▏| 1.0 MB 13.9 MB/s eta 0:00:01\r\u001b[K     |███████████████████████████████▌| 1.0 MB 13.9 MB/s eta 0:00:01\r\u001b[K     |███████████████████████████████▊| 1.0 MB 13.9 MB/s eta 0:00:01\r\u001b[K     |████████████████████████████████| 1.0 MB 13.9 MB/s \n",
            "\u001b[?25hRequirement already satisfied: pandas>=0.25.0 in /usr/local/lib/python3.7/dist-packages (from geopandas) (1.3.5)\n",
            "Collecting pyproj>=2.2.0\n",
            "  Downloading pyproj-3.2.1-cp37-cp37m-manylinux2010_x86_64.whl (6.3 MB)\n",
            "\u001b[K     |████████████████████████████████| 6.3 MB 64.7 MB/s \n",
            "\u001b[?25hRequirement already satisfied: shapely>=1.6 in /usr/local/lib/python3.7/dist-packages (from geopandas) (1.8.1.post1)\n",
            "Collecting fiona>=1.8\n",
            "  Downloading Fiona-1.8.21-cp37-cp37m-manylinux2014_x86_64.whl (16.7 MB)\n",
            "\u001b[K     |████████████████████████████████| 16.7 MB 55.0 MB/s \n",
            "\u001b[?25hCollecting munch\n",
            "  Downloading munch-2.5.0-py2.py3-none-any.whl (10 kB)\n",
            "Collecting cligj>=0.5\n",
            "  Downloading cligj-0.7.2-py3-none-any.whl (7.1 kB)\n",
            "Requirement already satisfied: attrs>=17 in /usr/local/lib/python3.7/dist-packages (from fiona>=1.8->geopandas) (21.4.0)\n",
            "Collecting click-plugins>=1.0\n",
            "  Downloading click_plugins-1.1.1-py2.py3-none-any.whl (7.5 kB)\n",
            "Requirement already satisfied: six>=1.7 in /usr/local/lib/python3.7/dist-packages (from fiona>=1.8->geopandas) (1.15.0)\n",
            "Requirement already satisfied: click>=4.0 in /usr/local/lib/python3.7/dist-packages (from fiona>=1.8->geopandas) (7.1.2)\n",
            "Requirement already satisfied: setuptools in /usr/local/lib/python3.7/dist-packages (from fiona>=1.8->geopandas) (57.4.0)\n",
            "Requirement already satisfied: certifi in /usr/local/lib/python3.7/dist-packages (from fiona>=1.8->geopandas) (2021.10.8)\n",
            "Requirement already satisfied: pytz>=2017.3 in /usr/local/lib/python3.7/dist-packages (from pandas>=0.25.0->geopandas) (2018.9)\n",
            "Requirement already satisfied: python-dateutil>=2.7.3 in /usr/local/lib/python3.7/dist-packages (from pandas>=0.25.0->geopandas) (2.8.2)\n",
            "Requirement already satisfied: numpy>=1.17.3 in /usr/local/lib/python3.7/dist-packages (from pandas>=0.25.0->geopandas) (1.21.5)\n",
            "Installing collected packages: munch, cligj, click-plugins, pyproj, fiona, geopandas\n",
            "Successfully installed click-plugins-1.1.1 cligj-0.7.2 fiona-1.8.21 geopandas-0.10.2 munch-2.5.0 pyproj-3.2.1\n"
          ]
        }
      ],
      "source": [
        "!pip install geopandas"
      ]
    },
    {
      "cell_type": "code",
      "source": [
        "import geopandas  as gpd\n",
        "import matplotlib.pyplot as plt"
      ],
      "metadata": {
        "id": "KI0jlpkWtlO4"
      },
      "execution_count": 13,
      "outputs": []
    },
    {
      "cell_type": "code",
      "source": [
        "shapefile_path = r\"/content/drive/MyDrive/Task1/All_Places_Of_Worship.shp\"\n",
        "df = gpd.read_file(shapefile_path)"
      ],
      "metadata": {
        "id": "8___B9L3tb_6"
      },
      "execution_count": 7,
      "outputs": []
    },
    {
      "cell_type": "code",
      "source": [
        "df.head(5)"
      ],
      "metadata": {
        "colab": {
          "base_uri": "https://localhost:8080/",
          "height": 594
        },
        "id": "Ste8qSn7uiDG",
        "outputId": "176d4709-9469-4733-b7d1-ac722396bb5e"
      },
      "execution_count": 8,
      "outputs": [
        {
          "output_type": "execute_result",
          "data": {
            "text/plain": [
              "   OBJECTID       EIN                                               NAME  \\\n",
              "0         1     29215                                ST GEORGE CATHEDRAL   \n",
              "1         2    635913   MINISTERIO APOSTOLICO JESUCRISTO ES EL SENOR INC   \n",
              "2         3   2030711       CHURCH OF OUR LORD JESUS CHRIST OF MACEDONIA   \n",
              "3         4   2045409  GENERAL COUNCIL OF ASSEMBLIES OF GOD FULL GOSP...   \n",
              "4         5  10192761                    CHILD EVANGELISM FELLOWSHIP INC   \n",
              "\n",
              "                   STREET           CITY STATE    ZIP  AFFILIATIO  RULING  \\\n",
              "0          523 E BROADWAY   SOUTH BOSTON    MA   2127           9  197210   \n",
              "1            454 ESSEX ST       LAWRENCE    MA   1840           3  200401   \n",
              "2            569 BROADWAY         NEWARK    NJ   7104           3  197912   \n",
              "3  3210 SOUTHWESTERN BLVD   ORCHARD PARK    NY  14127           9  196408   \n",
              "4       431 CAMPGROUND RD  LIVERMORE FLS    ME   4254           9  195611   \n",
              "\n",
              "   FOUNDATION  ...       YMIN       YMAX     ADDNUMFROM       ADDNUMTO  \\\n",
              "0          10  ...  42.334472  42.336472  NOT AVAILABLE  NOT AVAILABLE   \n",
              "1          10  ...  42.705213  42.707213  NOT AVAILABLE  NOT AVAILABLE   \n",
              "2          10  ...  40.768935  40.770935  NOT AVAILABLE  NOT AVAILABLE   \n",
              "3          10  ...  42.797535  42.799535  NOT AVAILABLE  NOT AVAILABLE   \n",
              "4          15  ...  44.427610  44.429610  NOT AVAILABLE  NOT AVAILABLE   \n",
              "\n",
              "            RANK              ARC_ADDRES       ARC_CITY ARC_REGION  \\\n",
              "0  NOT AVAILABLE          523 E BROADWAY   SOUTH BOSTON         MA   \n",
              "1  NOT AVAILABLE            454 ESSEX ST       LAWRENCE         MA   \n",
              "2  NOT AVAILABLE            569 BROADWAY         NEWARK         NJ   \n",
              "3  NOT AVAILABLE  3210 SOUTHWESTERN BLVD   ORCHARD PARK         NY   \n",
              "4  NOT AVAILABLE       431 CAMPGROUND RD  LIVERMORE FLS         ME   \n",
              "\n",
              "   ARC_POSTAL                          geometry  \n",
              "0        2127  POINT (-7908528.693 5211364.742)  \n",
              "1        1840  POINT (-7922044.883 5267360.844)  \n",
              "2        7104  POINT (-8255767.470 4978466.125)  \n",
              "3       14127  POINT (-8766166.778 5281356.921)  \n",
              "4        4254  POINT (-7805029.953 5532011.930)  \n",
              "\n",
              "[5 rows x 54 columns]"
            ],
            "text/html": [
              "\n",
              "  <div id=\"df-f439b6b9-b876-4c2f-bc4c-3ad9ef33c60b\">\n",
              "    <div class=\"colab-df-container\">\n",
              "      <div>\n",
              "<style scoped>\n",
              "    .dataframe tbody tr th:only-of-type {\n",
              "        vertical-align: middle;\n",
              "    }\n",
              "\n",
              "    .dataframe tbody tr th {\n",
              "        vertical-align: top;\n",
              "    }\n",
              "\n",
              "    .dataframe thead th {\n",
              "        text-align: right;\n",
              "    }\n",
              "</style>\n",
              "<table border=\"1\" class=\"dataframe\">\n",
              "  <thead>\n",
              "    <tr style=\"text-align: right;\">\n",
              "      <th></th>\n",
              "      <th>OBJECTID</th>\n",
              "      <th>EIN</th>\n",
              "      <th>NAME</th>\n",
              "      <th>STREET</th>\n",
              "      <th>CITY</th>\n",
              "      <th>STATE</th>\n",
              "      <th>ZIP</th>\n",
              "      <th>AFFILIATIO</th>\n",
              "      <th>RULING</th>\n",
              "      <th>FOUNDATION</th>\n",
              "      <th>...</th>\n",
              "      <th>YMIN</th>\n",
              "      <th>YMAX</th>\n",
              "      <th>ADDNUMFROM</th>\n",
              "      <th>ADDNUMTO</th>\n",
              "      <th>RANK</th>\n",
              "      <th>ARC_ADDRES</th>\n",
              "      <th>ARC_CITY</th>\n",
              "      <th>ARC_REGION</th>\n",
              "      <th>ARC_POSTAL</th>\n",
              "      <th>geometry</th>\n",
              "    </tr>\n",
              "  </thead>\n",
              "  <tbody>\n",
              "    <tr>\n",
              "      <th>0</th>\n",
              "      <td>1</td>\n",
              "      <td>29215</td>\n",
              "      <td>ST GEORGE CATHEDRAL</td>\n",
              "      <td>523 E BROADWAY</td>\n",
              "      <td>SOUTH BOSTON</td>\n",
              "      <td>MA</td>\n",
              "      <td>2127</td>\n",
              "      <td>9</td>\n",
              "      <td>197210</td>\n",
              "      <td>10</td>\n",
              "      <td>...</td>\n",
              "      <td>42.334472</td>\n",
              "      <td>42.336472</td>\n",
              "      <td>NOT AVAILABLE</td>\n",
              "      <td>NOT AVAILABLE</td>\n",
              "      <td>NOT AVAILABLE</td>\n",
              "      <td>523 E BROADWAY</td>\n",
              "      <td>SOUTH BOSTON</td>\n",
              "      <td>MA</td>\n",
              "      <td>2127</td>\n",
              "      <td>POINT (-7908528.693 5211364.742)</td>\n",
              "    </tr>\n",
              "    <tr>\n",
              "      <th>1</th>\n",
              "      <td>2</td>\n",
              "      <td>635913</td>\n",
              "      <td>MINISTERIO APOSTOLICO JESUCRISTO ES EL SENOR INC</td>\n",
              "      <td>454 ESSEX ST</td>\n",
              "      <td>LAWRENCE</td>\n",
              "      <td>MA</td>\n",
              "      <td>1840</td>\n",
              "      <td>3</td>\n",
              "      <td>200401</td>\n",
              "      <td>10</td>\n",
              "      <td>...</td>\n",
              "      <td>42.705213</td>\n",
              "      <td>42.707213</td>\n",
              "      <td>NOT AVAILABLE</td>\n",
              "      <td>NOT AVAILABLE</td>\n",
              "      <td>NOT AVAILABLE</td>\n",
              "      <td>454 ESSEX ST</td>\n",
              "      <td>LAWRENCE</td>\n",
              "      <td>MA</td>\n",
              "      <td>1840</td>\n",
              "      <td>POINT (-7922044.883 5267360.844)</td>\n",
              "    </tr>\n",
              "    <tr>\n",
              "      <th>2</th>\n",
              "      <td>3</td>\n",
              "      <td>2030711</td>\n",
              "      <td>CHURCH OF OUR LORD JESUS CHRIST OF MACEDONIA</td>\n",
              "      <td>569 BROADWAY</td>\n",
              "      <td>NEWARK</td>\n",
              "      <td>NJ</td>\n",
              "      <td>7104</td>\n",
              "      <td>3</td>\n",
              "      <td>197912</td>\n",
              "      <td>10</td>\n",
              "      <td>...</td>\n",
              "      <td>40.768935</td>\n",
              "      <td>40.770935</td>\n",
              "      <td>NOT AVAILABLE</td>\n",
              "      <td>NOT AVAILABLE</td>\n",
              "      <td>NOT AVAILABLE</td>\n",
              "      <td>569 BROADWAY</td>\n",
              "      <td>NEWARK</td>\n",
              "      <td>NJ</td>\n",
              "      <td>7104</td>\n",
              "      <td>POINT (-8255767.470 4978466.125)</td>\n",
              "    </tr>\n",
              "    <tr>\n",
              "      <th>3</th>\n",
              "      <td>4</td>\n",
              "      <td>2045409</td>\n",
              "      <td>GENERAL COUNCIL OF ASSEMBLIES OF GOD FULL GOSP...</td>\n",
              "      <td>3210 SOUTHWESTERN BLVD</td>\n",
              "      <td>ORCHARD PARK</td>\n",
              "      <td>NY</td>\n",
              "      <td>14127</td>\n",
              "      <td>9</td>\n",
              "      <td>196408</td>\n",
              "      <td>10</td>\n",
              "      <td>...</td>\n",
              "      <td>42.797535</td>\n",
              "      <td>42.799535</td>\n",
              "      <td>NOT AVAILABLE</td>\n",
              "      <td>NOT AVAILABLE</td>\n",
              "      <td>NOT AVAILABLE</td>\n",
              "      <td>3210 SOUTHWESTERN BLVD</td>\n",
              "      <td>ORCHARD PARK</td>\n",
              "      <td>NY</td>\n",
              "      <td>14127</td>\n",
              "      <td>POINT (-8766166.778 5281356.921)</td>\n",
              "    </tr>\n",
              "    <tr>\n",
              "      <th>4</th>\n",
              "      <td>5</td>\n",
              "      <td>10192761</td>\n",
              "      <td>CHILD EVANGELISM FELLOWSHIP INC</td>\n",
              "      <td>431 CAMPGROUND RD</td>\n",
              "      <td>LIVERMORE FLS</td>\n",
              "      <td>ME</td>\n",
              "      <td>4254</td>\n",
              "      <td>9</td>\n",
              "      <td>195611</td>\n",
              "      <td>15</td>\n",
              "      <td>...</td>\n",
              "      <td>44.427610</td>\n",
              "      <td>44.429610</td>\n",
              "      <td>NOT AVAILABLE</td>\n",
              "      <td>NOT AVAILABLE</td>\n",
              "      <td>NOT AVAILABLE</td>\n",
              "      <td>431 CAMPGROUND RD</td>\n",
              "      <td>LIVERMORE FLS</td>\n",
              "      <td>ME</td>\n",
              "      <td>4254</td>\n",
              "      <td>POINT (-7805029.953 5532011.930)</td>\n",
              "    </tr>\n",
              "  </tbody>\n",
              "</table>\n",
              "<p>5 rows × 54 columns</p>\n",
              "</div>\n",
              "      <button class=\"colab-df-convert\" onclick=\"convertToInteractive('df-f439b6b9-b876-4c2f-bc4c-3ad9ef33c60b')\"\n",
              "              title=\"Convert this dataframe to an interactive table.\"\n",
              "              style=\"display:none;\">\n",
              "        \n",
              "  <svg xmlns=\"http://www.w3.org/2000/svg\" height=\"24px\"viewBox=\"0 0 24 24\"\n",
              "       width=\"24px\">\n",
              "    <path d=\"M0 0h24v24H0V0z\" fill=\"none\"/>\n",
              "    <path d=\"M18.56 5.44l.94 2.06.94-2.06 2.06-.94-2.06-.94-.94-2.06-.94 2.06-2.06.94zm-11 1L8.5 8.5l.94-2.06 2.06-.94-2.06-.94L8.5 2.5l-.94 2.06-2.06.94zm10 10l.94 2.06.94-2.06 2.06-.94-2.06-.94-.94-2.06-.94 2.06-2.06.94z\"/><path d=\"M17.41 7.96l-1.37-1.37c-.4-.4-.92-.59-1.43-.59-.52 0-1.04.2-1.43.59L10.3 9.45l-7.72 7.72c-.78.78-.78 2.05 0 2.83L4 21.41c.39.39.9.59 1.41.59.51 0 1.02-.2 1.41-.59l7.78-7.78 2.81-2.81c.8-.78.8-2.07 0-2.86zM5.41 20L4 18.59l7.72-7.72 1.47 1.35L5.41 20z\"/>\n",
              "  </svg>\n",
              "      </button>\n",
              "      \n",
              "  <style>\n",
              "    .colab-df-container {\n",
              "      display:flex;\n",
              "      flex-wrap:wrap;\n",
              "      gap: 12px;\n",
              "    }\n",
              "\n",
              "    .colab-df-convert {\n",
              "      background-color: #E8F0FE;\n",
              "      border: none;\n",
              "      border-radius: 50%;\n",
              "      cursor: pointer;\n",
              "      display: none;\n",
              "      fill: #1967D2;\n",
              "      height: 32px;\n",
              "      padding: 0 0 0 0;\n",
              "      width: 32px;\n",
              "    }\n",
              "\n",
              "    .colab-df-convert:hover {\n",
              "      background-color: #E2EBFA;\n",
              "      box-shadow: 0px 1px 2px rgba(60, 64, 67, 0.3), 0px 1px 3px 1px rgba(60, 64, 67, 0.15);\n",
              "      fill: #174EA6;\n",
              "    }\n",
              "\n",
              "    [theme=dark] .colab-df-convert {\n",
              "      background-color: #3B4455;\n",
              "      fill: #D2E3FC;\n",
              "    }\n",
              "\n",
              "    [theme=dark] .colab-df-convert:hover {\n",
              "      background-color: #434B5C;\n",
              "      box-shadow: 0px 1px 3px 1px rgba(0, 0, 0, 0.15);\n",
              "      filter: drop-shadow(0px 1px 2px rgba(0, 0, 0, 0.3));\n",
              "      fill: #FFFFFF;\n",
              "    }\n",
              "  </style>\n",
              "\n",
              "      <script>\n",
              "        const buttonEl =\n",
              "          document.querySelector('#df-f439b6b9-b876-4c2f-bc4c-3ad9ef33c60b button.colab-df-convert');\n",
              "        buttonEl.style.display =\n",
              "          google.colab.kernel.accessAllowed ? 'block' : 'none';\n",
              "\n",
              "        async function convertToInteractive(key) {\n",
              "          const element = document.querySelector('#df-f439b6b9-b876-4c2f-bc4c-3ad9ef33c60b');\n",
              "          const dataTable =\n",
              "            await google.colab.kernel.invokeFunction('convertToInteractive',\n",
              "                                                     [key], {});\n",
              "          if (!dataTable) return;\n",
              "\n",
              "          const docLinkHtml = 'Like what you see? Visit the ' +\n",
              "            '<a target=\"_blank\" href=https://colab.research.google.com/notebooks/data_table.ipynb>data table notebook</a>'\n",
              "            + ' to learn more about interactive tables.';\n",
              "          element.innerHTML = '';\n",
              "          dataTable['output_type'] = 'display_data';\n",
              "          await google.colab.output.renderOutput(dataTable, element);\n",
              "          const docLink = document.createElement('div');\n",
              "          docLink.innerHTML = docLinkHtml;\n",
              "          element.appendChild(docLink);\n",
              "        }\n",
              "      </script>\n",
              "    </div>\n",
              "  </div>\n",
              "  "
            ]
          },
          "metadata": {},
          "execution_count": 8
        }
      ]
    },
    {
      "cell_type": "code",
      "source": [
        "df = df.set_geometry('geometry')"
      ],
      "metadata": {
        "id": "hGuOIS2dvihC"
      },
      "execution_count": 9,
      "outputs": []
    },
    {
      "cell_type": "code",
      "source": [
        "df.shape"
      ],
      "metadata": {
        "colab": {
          "base_uri": "https://localhost:8080/"
        },
        "id": "ooeqkpCFv5N8",
        "outputId": "97ecb6ed-da39-45aa-e5c8-907ffa3c9cd4"
      },
      "execution_count": 10,
      "outputs": [
        {
          "output_type": "execute_result",
          "data": {
            "text/plain": [
              "(254742, 54)"
            ]
          },
          "metadata": {},
          "execution_count": 10
        }
      ]
    },
    {
      "cell_type": "code",
      "source": [
        "fig, ax = plt.subplots(1, 1, figsize=(15, 15))\n",
        "df.plot(ax=ax)"
      ],
      "metadata": {
        "colab": {
          "base_uri": "https://localhost:8080/",
          "height": 714
        },
        "id": "3wIgZvFEwpyA",
        "outputId": "f87796d1-dc87-44da-874e-15c975ac27a5"
      },
      "execution_count": 12,
      "outputs": [
        {
          "output_type": "execute_result",
          "data": {
            "text/plain": [
              "<matplotlib.axes._subplots.AxesSubplot at 0x7f9d68da5d90>"
            ]
          },
          "metadata": {},
          "execution_count": 12
        },
        {
          "output_type": "display_data",
          "data": {
            "text/plain": [
              "<Figure size 1080x1080 with 1 Axes>"
            ],
            "image/png": "[encoded data removed]"
          },
          "metadata": {
            "needs_background": "light"
          }
        }
      ]
    },
    {
      "cell_type": "code",
      "source": [
        "df.info()"
      ],
      "metadata": {
        "colab": {
          "base_uri": "https://localhost:8080/"
        },
        "id": "aYAR0ZtEw2qq",
        "outputId": "c0dc7744-5e15-4499-8a15-426d09eda013"
      },
      "execution_count": 14,
      "outputs": [
        {
          "output_type": "stream",
          "name": "stdout",
          "text": [
            "<class 'geopandas.geodataframe.GeoDataFrame'>\n",
            "RangeIndex: 254742 entries, 0 to 254741\n",
            "Data columns (total 54 columns):\n",
            " #   Column      Non-Null Count   Dtype   \n",
            "---  ------      --------------   -----   \n",
            " 0   OBJECTID    254742 non-null  int64   \n",
            " 1   EIN         254742 non-null  int64   \n",
            " 2   NAME        254742 non-null  object  \n",
            " 3   STREET      254742 non-null  object  \n",
            " 4   CITY        254742 non-null  object  \n",
            " 5   STATE       254742 non-null  object  \n",
            " 6   ZIP         254742 non-null  int64   \n",
            " 7   AFFILIATIO  254742 non-null  int64   \n",
            " 8   RULING      254742 non-null  int64   \n",
            " 9   FOUNDATION  254742 non-null  int64   \n",
            " 10  ACTIVITY    254742 non-null  int64   \n",
            " 11  ORGANIZATI  254742 non-null  int64   \n",
            " 12  TAX_PERIOD  254742 non-null  int64   \n",
            " 13  ACCT_PD     254742 non-null  int64   \n",
            " 14  NTEE_CD     254742 non-null  object  \n",
            " 15  SORT_NAME   254742 non-null  object  \n",
            " 16  LOC_NAME    254742 non-null  object  \n",
            " 17  GEOCODED_S  254742 non-null  object  \n",
            " 18  SCORE       254742 non-null  float64 \n",
            " 19  MATCH_TYPE  254742 non-null  object  \n",
            " 20  MATCH_ADDR  254742 non-null  object  \n",
            " 21  ADDR_TYPE   254742 non-null  object  \n",
            " 22  ADDNUM      254742 non-null  object  \n",
            " 23  SIDE        254742 non-null  object  \n",
            " 24  STPREDIR    254742 non-null  object  \n",
            " 25  STPRETYPE   254742 non-null  object  \n",
            " 26  STNAME      254742 non-null  object  \n",
            " 27  STTYPE      254742 non-null  object  \n",
            " 28  STDIR       254742 non-null  object  \n",
            " 29  STADDR      254742 non-null  object  \n",
            " 30  CITY_2      254742 non-null  object  \n",
            " 31  SUBREGION   254742 non-null  object  \n",
            " 32  REGION      254742 non-null  object  \n",
            " 33  REGIONABBR  254742 non-null  object  \n",
            " 34  POSTAL      254742 non-null  object  \n",
            " 35  COUNTRY     254742 non-null  object  \n",
            " 36  LANGCODE    254742 non-null  object  \n",
            " 37  DISTANCE    254742 non-null  int64   \n",
            " 38  X           254742 non-null  float64 \n",
            " 39  Y           254742 non-null  float64 \n",
            " 40  DISPLAYX    254742 non-null  float64 \n",
            " 41  DISPLAYY    254742 non-null  float64 \n",
            " 42  XMIN        254742 non-null  float64 \n",
            " 43  XMAX        254742 non-null  float64 \n",
            " 44  YMIN        254742 non-null  float64 \n",
            " 45  YMAX        254742 non-null  float64 \n",
            " 46  ADDNUMFROM  254742 non-null  object  \n",
            " 47  ADDNUMTO    254742 non-null  object  \n",
            " 48  RANK        254742 non-null  object  \n",
            " 49  ARC_ADDRES  254742 non-null  object  \n",
            " 50  ARC_CITY    254742 non-null  object  \n",
            " 51  ARC_REGION  254742 non-null  object  \n",
            " 52  ARC_POSTAL  254742 non-null  int64   \n",
            " 53  geometry    254742 non-null  geometry\n",
            "dtypes: float64(9), geometry(1), int64(12), object(32)\n",
            "memory usage: 105.0+ MB\n"
          ]
        }
      ]
    },
    {
      "cell_type": "code",
      "source": [
        "len(df['STATE'].value_counts())"
      ],
      "metadata": {
        "colab": {
          "base_uri": "https://localhost:8080/"
        },
        "id": "-ZoN8xzYxf-N",
        "outputId": "ffdbe0a5-de40-4f38-ff11-8c868c350997"
      },
      "execution_count": 16,
      "outputs": [
        {
          "output_type": "execute_result",
          "data": {
            "text/plain": [
              "51"
            ]
          },
          "metadata": {},
          "execution_count": 16
        }
      ]
    }
  ]
}