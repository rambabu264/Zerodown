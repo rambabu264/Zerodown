{
  "nbformat": 4,
  "nbformat_minor": 0,
  "metadata": {
    "colab": {
      "name": "Task2.ipynb",
      "provenance": []
    },
    "kernelspec": {
      "name": "python3",
      "display_name": "Python 3"
    },
    "language_info": {
      "name": "python"
    }
  },
  "cells": [
    {
      "cell_type": "code",
      "execution_count": 2,
      "metadata": {
        "colab": {
          "base_uri": "https://localhost:8080/"
        },
        "id": "9mUpw1ORU52V",
        "outputId": "951d1c88-68e0-40be-c6c0-14eeccbb91d3"
      },
      "outputs": [
        {
          "output_type": "stream",
          "name": "stdout",
          "text": [
            "Drive already mounted at /content/drive; to attempt to forcibly remount, call drive.mount(\"/content/drive\", force_remount=True).\n"
          ]
        }
      ],
      "source": [
        "from google.colab import drive\n",
        "drive.mount('/content/drive')"
      ]
    },
    {
      "cell_type": "code",
      "source": [
        "!pip install geopandas\n",
        "!pip install plotly "
      ],
      "metadata": {
        "colab": {
          "base_uri": "https://localhost:8080/"
        },
        "id": "-bRHoSgSWndq",
        "outputId": "c34c0c6c-d044-4ed2-e5c4-9c70edceec72"
      },
      "execution_count": 3,
      "outputs": [
        {
          "output_type": "stream",
          "name": "stdout",
          "text": [
            "Collecting geopandas\n",
            "  Downloading geopandas-0.10.2-py2.py3-none-any.whl (1.0 MB)\n",
            "\u001b[?25l\r\u001b[K     |▎                               | 10 kB 23.5 MB/s eta 0:00:01\r\u001b[K     |▋                               | 20 kB 28.3 MB/s eta 0:00:01\r\u001b[K     |█                               | 30 kB 18.2 MB/s eta 0:00:01\r\u001b[K     |█▎                              | 40 kB 6.4 MB/s eta 0:00:01\r\u001b[K     |█▋                              | 51 kB 6.1 MB/s eta 0:00:01\r\u001b[K     |██                              | 61 kB 7.2 MB/s eta 0:00:01\r\u001b[K     |██▎                             | 71 kB 7.5 MB/s eta 0:00:01\r\u001b[K     |██▌                             | 81 kB 7.2 MB/s eta 0:00:01\r\u001b[K     |██▉                             | 92 kB 7.9 MB/s eta 0:00:01\r\u001b[K     |███▏                            | 102 kB 6.9 MB/s eta 0:00:01\r\u001b[K     |███▌                            | 112 kB 6.9 MB/s eta 0:00:01\r\u001b[K     |███▉                            | 122 kB 6.9 MB/s eta 0:00:01\r\u001b[K     |████▏                           | 133 kB 6.9 MB/s eta 0:00:01\r\u001b[K     |████▌                           | 143 kB 6.9 MB/s eta 0:00:01\r\u001b[K     |████▊                           | 153 kB 6.9 MB/s eta 0:00:01\r\u001b[K     |█████                           | 163 kB 6.9 MB/s eta 0:00:01\r\u001b[K     |█████▍                          | 174 kB 6.9 MB/s eta 0:00:01\r\u001b[K     |█████▊                          | 184 kB 6.9 MB/s eta 0:00:01\r\u001b[K     |██████                          | 194 kB 6.9 MB/s eta 0:00:01\r\u001b[K     |██████▍                         | 204 kB 6.9 MB/s eta 0:00:01\r\u001b[K     |██████▊                         | 215 kB 6.9 MB/s eta 0:00:01\r\u001b[K     |███████                         | 225 kB 6.9 MB/s eta 0:00:01\r\u001b[K     |███████▎                        | 235 kB 6.9 MB/s eta 0:00:01\r\u001b[K     |███████▋                        | 245 kB 6.9 MB/s eta 0:00:01\r\u001b[K     |████████                        | 256 kB 6.9 MB/s eta 0:00:01\r\u001b[K     |████████▎                       | 266 kB 6.9 MB/s eta 0:00:01\r\u001b[K     |████████▋                       | 276 kB 6.9 MB/s eta 0:00:01\r\u001b[K     |█████████                       | 286 kB 6.9 MB/s eta 0:00:01\r\u001b[K     |█████████▏                      | 296 kB 6.9 MB/s eta 0:00:01\r\u001b[K     |█████████▌                      | 307 kB 6.9 MB/s eta 0:00:01\r\u001b[K     |█████████▉                      | 317 kB 6.9 MB/s eta 0:00:01\r\u001b[K     |██████████▏                     | 327 kB 6.9 MB/s eta 0:00:01\r\u001b[K     |██████████▌                     | 337 kB 6.9 MB/s eta 0:00:01\r\u001b[K     |██████████▉                     | 348 kB 6.9 MB/s eta 0:00:01\r\u001b[K     |███████████▏                    | 358 kB 6.9 MB/s eta 0:00:01\r\u001b[K     |███████████▍                    | 368 kB 6.9 MB/s eta 0:00:01\r\u001b[K     |███████████▊                    | 378 kB 6.9 MB/s eta 0:00:01\r\u001b[K     |████████████                    | 389 kB 6.9 MB/s eta 0:00:01\r\u001b[K     |████████████▍                   | 399 kB 6.9 MB/s eta 0:00:01\r\u001b[K     |████████████▊                   | 409 kB 6.9 MB/s eta 0:00:01\r\u001b[K     |█████████████                   | 419 kB 6.9 MB/s eta 0:00:01\r\u001b[K     |█████████████▍                  | 430 kB 6.9 MB/s eta 0:00:01\r\u001b[K     |█████████████▋                  | 440 kB 6.9 MB/s eta 0:00:01\r\u001b[K     |██████████████                  | 450 kB 6.9 MB/s eta 0:00:01\r\u001b[K     |██████████████▎                 | 460 kB 6.9 MB/s eta 0:00:01\r\u001b[K     |██████████████▋                 | 471 kB 6.9 MB/s eta 0:00:01\r\u001b[K     |███████████████                 | 481 kB 6.9 MB/s eta 0:00:01\r\u001b[K     |███████████████▎                | 491 kB 6.9 MB/s eta 0:00:01\r\u001b[K     |███████████████▋                | 501 kB 6.9 MB/s eta 0:00:01\r\u001b[K     |███████████████▉                | 512 kB 6.9 MB/s eta 0:00:01\r\u001b[K     |████████████████▏               | 522 kB 6.9 MB/s eta 0:00:01\r\u001b[K     |████████████████▌               | 532 kB 6.9 MB/s eta 0:00:01\r\u001b[K     |████████████████▉               | 542 kB 6.9 MB/s eta 0:00:01\r\u001b[K     |█████████████████▏              | 552 kB 6.9 MB/s eta 0:00:01\r\u001b[K     |█████████████████▌              | 563 kB 6.9 MB/s eta 0:00:01\r\u001b[K     |█████████████████▉              | 573 kB 6.9 MB/s eta 0:00:01\r\u001b[K     |██████████████████              | 583 kB 6.9 MB/s eta 0:00:01\r\u001b[K     |██████████████████▍             | 593 kB 6.9 MB/s eta 0:00:01\r\u001b[K     |██████████████████▊             | 604 kB 6.9 MB/s eta 0:00:01\r\u001b[K     |███████████████████             | 614 kB 6.9 MB/s eta 0:00:01\r\u001b[K     |███████████████████▍            | 624 kB 6.9 MB/s eta 0:00:01\r\u001b[K     |███████████████████▊            | 634 kB 6.9 MB/s eta 0:00:01\r\u001b[K     |████████████████████            | 645 kB 6.9 MB/s eta 0:00:01\r\u001b[K     |████████████████████▎           | 655 kB 6.9 MB/s eta 0:00:01\r\u001b[K     |████████████████████▋           | 665 kB 6.9 MB/s eta 0:00:01\r\u001b[K     |█████████████████████           | 675 kB 6.9 MB/s eta 0:00:01\r\u001b[K     |█████████████████████▎          | 686 kB 6.9 MB/s eta 0:00:01\r\u001b[K     |█████████████████████▋          | 696 kB 6.9 MB/s eta 0:00:01\r\u001b[K     |██████████████████████          | 706 kB 6.9 MB/s eta 0:00:01\r\u001b[K     |██████████████████████▎         | 716 kB 6.9 MB/s eta 0:00:01\r\u001b[K     |██████████████████████▋         | 727 kB 6.9 MB/s eta 0:00:01\r\u001b[K     |██████████████████████▉         | 737 kB 6.9 MB/s eta 0:00:01\r\u001b[K     |███████████████████████▏        | 747 kB 6.9 MB/s eta 0:00:01\r\u001b[K     |███████████████████████▌        | 757 kB 6.9 MB/s eta 0:00:01\r\u001b[K     |███████████████████████▉        | 768 kB 6.9 MB/s eta 0:00:01\r\u001b[K     |████████████████████████▏       | 778 kB 6.9 MB/s eta 0:00:01\r\u001b[K     |████████████████████████▌       | 788 kB 6.9 MB/s eta 0:00:01\r\u001b[K     |████████████████████████▉       | 798 kB 6.9 MB/s eta 0:00:01\r\u001b[K     |█████████████████████████       | 808 kB 6.9 MB/s eta 0:00:01\r\u001b[K     |█████████████████████████▍      | 819 kB 6.9 MB/s eta 0:00:01\r\u001b[K     |█████████████████████████▊      | 829 kB 6.9 MB/s eta 0:00:01\r\u001b[K     |██████████████████████████      | 839 kB 6.9 MB/s eta 0:00:01\r\u001b[K     |██████████████████████████▍     | 849 kB 6.9 MB/s eta 0:00:01\r\u001b[K     |██████████████████████████▊     | 860 kB 6.9 MB/s eta 0:00:01\r\u001b[K     |███████████████████████████     | 870 kB 6.9 MB/s eta 0:00:01\r\u001b[K     |███████████████████████████▎    | 880 kB 6.9 MB/s eta 0:00:01\r\u001b[K     |███████████████████████████▋    | 890 kB 6.9 MB/s eta 0:00:01\r\u001b[K     |████████████████████████████    | 901 kB 6.9 MB/s eta 0:00:01\r\u001b[K     |████████████████████████████▎   | 911 kB 6.9 MB/s eta 0:00:01\r\u001b[K     |████████████████████████████▋   | 921 kB 6.9 MB/s eta 0:00:01\r\u001b[K     |█████████████████████████████   | 931 kB 6.9 MB/s eta 0:00:01\r\u001b[K     |█████████████████████████████▎  | 942 kB 6.9 MB/s eta 0:00:01\r\u001b[K     |█████████████████████████████▌  | 952 kB 6.9 MB/s eta 0:00:01\r\u001b[K     |█████████████████████████████▉  | 962 kB 6.9 MB/s eta 0:00:01\r\u001b[K     |██████████████████████████████▏ | 972 kB 6.9 MB/s eta 0:00:01\r\u001b[K     |██████████████████████████████▌ | 983 kB 6.9 MB/s eta 0:00:01\r\u001b[K     |██████████████████████████████▉ | 993 kB 6.9 MB/s eta 0:00:01\r\u001b[K     |███████████████████████████████▏| 1.0 MB 6.9 MB/s eta 0:00:01\r\u001b[K     |███████████████████████████████▌| 1.0 MB 6.9 MB/s eta 0:00:01\r\u001b[K     |███████████████████████████████▊| 1.0 MB 6.9 MB/s eta 0:00:01\r\u001b[K     |████████████████████████████████| 1.0 MB 6.9 MB/s \n",
            "\u001b[?25hRequirement already satisfied: pandas>=0.25.0 in /usr/local/lib/python3.7/dist-packages (from geopandas) (1.3.5)\n",
            "Collecting fiona>=1.8\n",
            "  Downloading Fiona-1.8.21-cp37-cp37m-manylinux2014_x86_64.whl (16.7 MB)\n",
            "\u001b[K     |████████████████████████████████| 16.7 MB 43.5 MB/s \n",
            "\u001b[?25hCollecting pyproj>=2.2.0\n",
            "  Downloading pyproj-3.2.1-cp37-cp37m-manylinux2010_x86_64.whl (6.3 MB)\n",
            "\u001b[K     |████████████████████████████████| 6.3 MB 47.3 MB/s \n",
            "\u001b[?25hRequirement already satisfied: shapely>=1.6 in /usr/local/lib/python3.7/dist-packages (from geopandas) (1.8.1.post1)\n",
            "Requirement already satisfied: click>=4.0 in /usr/local/lib/python3.7/dist-packages (from fiona>=1.8->geopandas) (7.1.2)\n",
            "Collecting munch\n",
            "  Downloading munch-2.5.0-py2.py3-none-any.whl (10 kB)\n",
            "Requirement already satisfied: setuptools in /usr/local/lib/python3.7/dist-packages (from fiona>=1.8->geopandas) (57.4.0)\n",
            "Requirement already satisfied: attrs>=17 in /usr/local/lib/python3.7/dist-packages (from fiona>=1.8->geopandas) (21.4.0)\n",
            "Collecting click-plugins>=1.0\n",
            "  Downloading click_plugins-1.1.1-py2.py3-none-any.whl (7.5 kB)\n",
            "Requirement already satisfied: six>=1.7 in /usr/local/lib/python3.7/dist-packages (from fiona>=1.8->geopandas) (1.15.0)\n",
            "Requirement already satisfied: certifi in /usr/local/lib/python3.7/dist-packages (from fiona>=1.8->geopandas) (2021.10.8)\n",
            "Collecting cligj>=0.5\n",
            "  Downloading cligj-0.7.2-py3-none-any.whl (7.1 kB)\n",
            "Requirement already satisfied: python-dateutil>=2.7.3 in /usr/local/lib/python3.7/dist-packages (from pandas>=0.25.0->geopandas) (2.8.2)\n",
            "Requirement already satisfied: numpy>=1.17.3 in /usr/local/lib/python3.7/dist-packages (from pandas>=0.25.0->geopandas) (1.21.5)\n",
            "Requirement already satisfied: pytz>=2017.3 in /usr/local/lib/python3.7/dist-packages (from pandas>=0.25.0->geopandas) (2018.9)\n",
            "Installing collected packages: munch, cligj, click-plugins, pyproj, fiona, geopandas\n",
            "Successfully installed click-plugins-1.1.1 cligj-0.7.2 fiona-1.8.21 geopandas-0.10.2 munch-2.5.0 pyproj-3.2.1\n",
            "Requirement already satisfied: plotly in /usr/local/lib/python3.7/dist-packages (5.5.0)\n",
            "Requirement already satisfied: tenacity>=6.2.0 in /usr/local/lib/python3.7/dist-packages (from plotly) (8.0.1)\n",
            "Requirement already satisfied: six in /usr/local/lib/python3.7/dist-packages (from plotly) (1.15.0)\n"
          ]
        }
      ]
    },
    {
      "cell_type": "code",
      "source": [
        "import geopandas  as gpd\n",
        "import matplotlib.pyplot as plt\n",
        "import plotly.express as px\n",
        "import pandas as pd"
      ],
      "metadata": {
        "id": "SdPcml78WsfC"
      },
      "execution_count": 4,
      "outputs": []
    },
    {
      "cell_type": "markdown",
      "source": [
        "###2022 dataset"
      ],
      "metadata": {
        "id": "bdUc3twawvcU"
      }
    },
    {
      "cell_type": "code",
      "source": [
        "shapefile_path = r\"/content/drive/MyDrive/Task2/list/IBTrACS.ACTIVE.list.v04r00.lines.shp\"\n",
        "df1 = gpd.read_file(shapefile_path)"
      ],
      "metadata": {
        "id": "asGOYHuCWyTj"
      },
      "execution_count": 5,
      "outputs": []
    },
    {
      "cell_type": "code",
      "source": [
        "df1.head()"
      ],
      "metadata": {
        "colab": {
          "base_uri": "https://localhost:8080/",
          "height": 647
        },
        "id": "jLNu3PBuW6h1",
        "outputId": "e59347d2-0801-46e1-b3cc-b72be02ce461"
      },
      "execution_count": 6,
      "outputs": [
        {
          "output_type": "execute_result",
          "data": {
            "text/plain": [
              "             SID  SEASON  NUMBER BASIN SUBBASIN       NAME  \\\n",
              "0  2022080S13114    2022      18    SI       WA  CHARLOTTE   \n",
              "1  2022080S13114    2022      18    SI       WA  CHARLOTTE   \n",
              "2  2022080S13114    2022      18    SI       WA  CHARLOTTE   \n",
              "3  2022080S13114    2022      18    SI       WA  CHARLOTTE   \n",
              "4  2022080S13114    2022      18    SI       WA  CHARLOTTE   \n",
              "\n",
              "              ISO_TIME NATURE    LAT     LON  ... USA_SEA_SW USA_SEA_NW  \\\n",
              "0  2022-03-20 12:00:00     NR -13.10  113.80  ...       None       None   \n",
              "1  2022-03-20 15:00:00     NR -13.22  113.16  ...       None       None   \n",
              "2  2022-03-20 18:00:00     NR -13.50  112.60  ...       None       None   \n",
              "3  2022-03-20 21:00:00     NR -14.03  112.16  ...       None       None   \n",
              "4  2022-03-21 00:00:00     NR -14.60  111.80  ...       None       None   \n",
              "\n",
              "  STORM_SPD STORM_DR  year  month day hour min  \\\n",
              "0        13      259  2022      3  20   12   0   \n",
              "1        12      251  2022      3  20   15   0   \n",
              "2        13      230  2022      3  20   18   0   \n",
              "3        14      215  2022      3  20   21   0   \n",
              "4        12      217  2022      3  21    0   0   \n",
              "\n",
              "                                            geometry  \n",
              "0  LINESTRING (113.80005 -13.10000, 113.16235 -13...  \n",
              "1  LINESTRING (113.16235 -13.22043, 112.59998 -13...  \n",
              "2  LINESTRING (112.59998 -13.50000, 112.16272 -14...  \n",
              "3  LINESTRING (112.16272 -14.02730, 111.80005 -14...  \n",
              "4  LINESTRING (111.80005 -14.60000, 111.42725 -14...  \n",
              "\n",
              "[5 rows x 169 columns]"
            ],
            "text/html": [
              "\n",
              "  <div id=\"df-09889759-76ab-4f33-8a1c-276cd8130382\">\n",
              "    <div class=\"colab-df-container\">\n",
              "      <div>\n",
              "<style scoped>\n",
              "    .dataframe tbody tr th:only-of-type {\n",
              "        vertical-align: middle;\n",
              "    }\n",
              "\n",
              "    .dataframe tbody tr th {\n",
              "        vertical-align: top;\n",
              "    }\n",
              "\n",
              "    .dataframe thead th {\n",
              "        text-align: right;\n",
              "    }\n",
              "</style>\n",
              "<table border=\"1\" class=\"dataframe\">\n",
              "  <thead>\n",
              "    <tr style=\"text-align: right;\">\n",
              "      <th></th>\n",
              "      <th>SID</th>\n",
              "      <th>SEASON</th>\n",
              "      <th>NUMBER</th>\n",
              "      <th>BASIN</th>\n",
              "      <th>SUBBASIN</th>\n",
              "      <th>NAME</th>\n",
              "      <th>ISO_TIME</th>\n",
              "      <th>NATURE</th>\n",
              "      <th>LAT</th>\n",
              "      <th>LON</th>\n",
              "      <th>...</th>\n",
              "      <th>USA_SEA_SW</th>\n",
              "      <th>USA_SEA_NW</th>\n",
              "      <th>STORM_SPD</th>\n",
              "      <th>STORM_DR</th>\n",
              "      <th>year</th>\n",
              "      <th>month</th>\n",
              "      <th>day</th>\n",
              "      <th>hour</th>\n",
              "      <th>min</th>\n",
              "      <th>geometry</th>\n",
              "    </tr>\n",
              "  </thead>\n",
              "  <tbody>\n",
              "    <tr>\n",
              "      <th>0</th>\n",
              "      <td>2022080S13114</td>\n",
              "      <td>2022</td>\n",
              "      <td>18</td>\n",
              "      <td>SI</td>\n",
              "      <td>WA</td>\n",
              "      <td>CHARLOTTE</td>\n",
              "      <td>2022-03-20 12:00:00</td>\n",
              "      <td>NR</td>\n",
              "      <td>-13.10</td>\n",
              "      <td>113.80</td>\n",
              "      <td>...</td>\n",
              "      <td>None</td>\n",
              "      <td>None</td>\n",
              "      <td>13</td>\n",
              "      <td>259</td>\n",
              "      <td>2022</td>\n",
              "      <td>3</td>\n",
              "      <td>20</td>\n",
              "      <td>12</td>\n",
              "      <td>0</td>\n",
              "      <td>LINESTRING (113.80005 -13.10000, 113.16235 -13...</td>\n",
              "    </tr>\n",
              "    <tr>\n",
              "      <th>1</th>\n",
              "      <td>2022080S13114</td>\n",
              "      <td>2022</td>\n",
              "      <td>18</td>\n",
              "      <td>SI</td>\n",
              "      <td>WA</td>\n",
              "      <td>CHARLOTTE</td>\n",
              "      <td>2022-03-20 15:00:00</td>\n",
              "      <td>NR</td>\n",
              "      <td>-13.22</td>\n",
              "      <td>113.16</td>\n",
              "      <td>...</td>\n",
              "      <td>None</td>\n",
              "      <td>None</td>\n",
              "      <td>12</td>\n",
              "      <td>251</td>\n",
              "      <td>2022</td>\n",
              "      <td>3</td>\n",
              "      <td>20</td>\n",
              "      <td>15</td>\n",
              "      <td>0</td>\n",
              "      <td>LINESTRING (113.16235 -13.22043, 112.59998 -13...</td>\n",
              "    </tr>\n",
              "    <tr>\n",
              "      <th>2</th>\n",
              "      <td>2022080S13114</td>\n",
              "      <td>2022</td>\n",
              "      <td>18</td>\n",
              "      <td>SI</td>\n",
              "      <td>WA</td>\n",
              "      <td>CHARLOTTE</td>\n",
              "      <td>2022-03-20 18:00:00</td>\n",
              "      <td>NR</td>\n",
              "      <td>-13.50</td>\n",
              "      <td>112.60</td>\n",
              "      <td>...</td>\n",
              "      <td>None</td>\n",
              "      <td>None</td>\n",
              "      <td>13</td>\n",
              "      <td>230</td>\n",
              "      <td>2022</td>\n",
              "      <td>3</td>\n",
              "      <td>20</td>\n",
              "      <td>18</td>\n",
              "      <td>0</td>\n",
              "      <td>LINESTRING (112.59998 -13.50000, 112.16272 -14...</td>\n",
              "    </tr>\n",
              "    <tr>\n",
              "      <th>3</th>\n",
              "      <td>2022080S13114</td>\n",
              "      <td>2022</td>\n",
              "      <td>18</td>\n",
              "      <td>SI</td>\n",
              "      <td>WA</td>\n",
              "      <td>CHARLOTTE</td>\n",
              "      <td>2022-03-20 21:00:00</td>\n",
              "      <td>NR</td>\n",
              "      <td>-14.03</td>\n",
              "      <td>112.16</td>\n",
              "      <td>...</td>\n",
              "      <td>None</td>\n",
              "      <td>None</td>\n",
              "      <td>14</td>\n",
              "      <td>215</td>\n",
              "      <td>2022</td>\n",
              "      <td>3</td>\n",
              "      <td>20</td>\n",
              "      <td>21</td>\n",
              "      <td>0</td>\n",
              "      <td>LINESTRING (112.16272 -14.02730, 111.80005 -14...</td>\n",
              "    </tr>\n",
              "    <tr>\n",
              "      <th>4</th>\n",
              "      <td>2022080S13114</td>\n",
              "      <td>2022</td>\n",
              "      <td>18</td>\n",
              "      <td>SI</td>\n",
              "      <td>WA</td>\n",
              "      <td>CHARLOTTE</td>\n",
              "      <td>2022-03-21 00:00:00</td>\n",
              "      <td>NR</td>\n",
              "      <td>-14.60</td>\n",
              "      <td>111.80</td>\n",
              "      <td>...</td>\n",
              "      <td>None</td>\n",
              "      <td>None</td>\n",
              "      <td>12</td>\n",
              "      <td>217</td>\n",
              "      <td>2022</td>\n",
              "      <td>3</td>\n",
              "      <td>21</td>\n",
              "      <td>0</td>\n",
              "      <td>0</td>\n",
              "      <td>LINESTRING (111.80005 -14.60000, 111.42725 -14...</td>\n",
              "    </tr>\n",
              "  </tbody>\n",
              "</table>\n",
              "<p>5 rows × 169 columns</p>\n",
              "</div>\n",
              "      <button class=\"colab-df-convert\" onclick=\"convertToInteractive('df-09889759-76ab-4f33-8a1c-276cd8130382')\"\n",
              "              title=\"Convert this dataframe to an interactive table.\"\n",
              "              style=\"display:none;\">\n",
              "        \n",
              "  <svg xmlns=\"http://www.w3.org/2000/svg\" height=\"24px\"viewBox=\"0 0 24 24\"\n",
              "       width=\"24px\">\n",
              "    <path d=\"M0 0h24v24H0V0z\" fill=\"none\"/>\n",
              "    <path d=\"M18.56 5.44l.94 2.06.94-2.06 2.06-.94-2.06-.94-.94-2.06-.94 2.06-2.06.94zm-11 1L8.5 8.5l.94-2.06 2.06-.94-2.06-.94L8.5 2.5l-.94 2.06-2.06.94zm10 10l.94 2.06.94-2.06 2.06-.94-2.06-.94-.94-2.06-.94 2.06-2.06.94z\"/><path d=\"M17.41 7.96l-1.37-1.37c-.4-.4-.92-.59-1.43-.59-.52 0-1.04.2-1.43.59L10.3 9.45l-7.72 7.72c-.78.78-.78 2.05 0 2.83L4 21.41c.39.39.9.59 1.41.59.51 0 1.02-.2 1.41-.59l7.78-7.78 2.81-2.81c.8-.78.8-2.07 0-2.86zM5.41 20L4 18.59l7.72-7.72 1.47 1.35L5.41 20z\"/>\n",
              "  </svg>\n",
              "      </button>\n",
              "      \n",
              "  <style>\n",
              "    .colab-df-container {\n",
              "      display:flex;\n",
              "      flex-wrap:wrap;\n",
              "      gap: 12px;\n",
              "    }\n",
              "\n",
              "    .colab-df-convert {\n",
              "      background-color: #E8F0FE;\n",
              "      border: none;\n",
              "      border-radius: 50%;\n",
              "      cursor: pointer;\n",
              "      display: none;\n",
              "      fill: #1967D2;\n",
              "      height: 32px;\n",
              "      padding: 0 0 0 0;\n",
              "      width: 32px;\n",
              "    }\n",
              "\n",
              "    .colab-df-convert:hover {\n",
              "      background-color: #E2EBFA;\n",
              "      box-shadow: 0px 1px 2px rgba(60, 64, 67, 0.3), 0px 1px 3px 1px rgba(60, 64, 67, 0.15);\n",
              "      fill: #174EA6;\n",
              "    }\n",
              "\n",
              "    [theme=dark] .colab-df-convert {\n",
              "      background-color: #3B4455;\n",
              "      fill: #D2E3FC;\n",
              "    }\n",
              "\n",
              "    [theme=dark] .colab-df-convert:hover {\n",
              "      background-color: #434B5C;\n",
              "      box-shadow: 0px 1px 3px 1px rgba(0, 0, 0, 0.15);\n",
              "      filter: drop-shadow(0px 1px 2px rgba(0, 0, 0, 0.3));\n",
              "      fill: #FFFFFF;\n",
              "    }\n",
              "  </style>\n",
              "\n",
              "      <script>\n",
              "        const buttonEl =\n",
              "          document.querySelector('#df-09889759-76ab-4f33-8a1c-276cd8130382 button.colab-df-convert');\n",
              "        buttonEl.style.display =\n",
              "          google.colab.kernel.accessAllowed ? 'block' : 'none';\n",
              "\n",
              "        async function convertToInteractive(key) {\n",
              "          const element = document.querySelector('#df-09889759-76ab-4f33-8a1c-276cd8130382');\n",
              "          const dataTable =\n",
              "            await google.colab.kernel.invokeFunction('convertToInteractive',\n",
              "                                                     [key], {});\n",
              "          if (!dataTable) return;\n",
              "\n",
              "          const docLinkHtml = 'Like what you see? Visit the ' +\n",
              "            '<a target=\"_blank\" href=https://colab.research.google.com/notebooks/data_table.ipynb>data table notebook</a>'\n",
              "            + ' to learn more about interactive tables.';\n",
              "          element.innerHTML = '';\n",
              "          dataTable['output_type'] = 'display_data';\n",
              "          await google.colab.output.renderOutput(dataTable, element);\n",
              "          const docLink = document.createElement('div');\n",
              "          docLink.innerHTML = docLinkHtml;\n",
              "          element.appendChild(docLink);\n",
              "        }\n",
              "      </script>\n",
              "    </div>\n",
              "  </div>\n",
              "  "
            ]
          },
          "metadata": {},
          "execution_count": 6
        }
      ]
    },
    {
      "cell_type": "code",
      "source": [
        "df1 = df1.set_geometry('geometry')"
      ],
      "metadata": {
        "id": "jiJvVH7kTWjO"
      },
      "execution_count": 20,
      "outputs": []
    },
    {
      "cell_type": "code",
      "source": [
        "df1.columns"
      ],
      "metadata": {
        "colab": {
          "base_uri": "https://localhost:8080/"
        },
        "id": "0iOxxnTB3fi5",
        "outputId": "fa46eb35-1482-4fad-c71d-b7fc9675afb5"
      },
      "execution_count": 7,
      "outputs": [
        {
          "output_type": "execute_result",
          "data": {
            "text/plain": [
              "Index(['SID', 'SEASON', 'NUMBER', 'BASIN', 'SUBBASIN', 'NAME', 'ISO_TIME',\n",
              "       'NATURE', 'LAT', 'LON',\n",
              "       ...\n",
              "       'USA_SEA_SW', 'USA_SEA_NW', 'STORM_SPD', 'STORM_DR', 'year', 'month',\n",
              "       'day', 'hour', 'min', 'geometry'],\n",
              "      dtype='object', length=169)"
            ]
          },
          "metadata": {},
          "execution_count": 7
        }
      ]
    },
    {
      "cell_type": "code",
      "source": [
        "drop_cols =[]"
      ],
      "metadata": {
        "id": "VeqQ4NN2yZ7Z"
      },
      "execution_count": 9,
      "outputs": []
    },
    {
      "cell_type": "code",
      "source": [
        "def handle_null_values(df):\n",
        "    global drop_cols\n",
        "    no_null = True\n",
        "    for col in df.columns:\n",
        "        null_cnt = df[col].isnull().sum()\n",
        "        if 0<float(null_cnt)/ float(df.shape[0]) <0.1 and pd.api.types.is_numeric_dtype(df[col]):\n",
        "            medi = df[col].median()\n",
        "            df[col]= df[col].apply(lambda x : medi if x==None else x)\n",
        "            #print(f\"Replaced {null_cnt} values in {col} with median {medi}\")\n",
        "            no_null = False\n",
        "        elif  null_cnt==0:\n",
        "            no_null = no_null and True\n",
        "        else:\n",
        "            drop_cols.append(col)\n",
        "    if no_null:\n",
        "        print(\"No null values found\")\n",
        "    else:\n",
        "        if len(drop_cols)>0:\n",
        "            print(\"Dropped columns : {drop_cols}\")\n",
        "        else:\n",
        "            print(\"No columns dropped\")\n",
        "    return (df.drop(columns=drop_cols,inplace= True),drop_cols)"
      ],
      "metadata": {
        "id": "0hvHIKetXHvC"
      },
      "execution_count": 25,
      "outputs": []
    },
    {
      "cell_type": "code",
      "source": [
        "def preprocess(df1):\n",
        "  handle_null_values(df1)\n",
        "  #df1.drop(columns=drop_cols,inplace= True)"
      ],
      "metadata": {
        "id": "NfdUb-a-xFfz"
      },
      "execution_count": 28,
      "outputs": []
    },
    {
      "cell_type": "code",
      "source": [
        "preprocess(df1)"
      ],
      "metadata": {
        "id": "m5QcIbLGxYeQ"
      },
      "execution_count": null,
      "outputs": []
    },
    {
      "cell_type": "code",
      "source": [
        "df1.head()"
      ],
      "metadata": {
        "colab": {
          "base_uri": "https://localhost:8080/",
          "height": 647
        },
        "id": "KonLudjtx0rM",
        "outputId": "6268ce31-5a90-4287-8866-5d9dad0a8f06"
      },
      "execution_count": 21,
      "outputs": [
        {
          "output_type": "execute_result",
          "data": {
            "text/plain": [
              "             SID  SEASON  NUMBER BASIN SUBBASIN       NAME  \\\n",
              "0  2022080S13114    2022      18    SI       WA  CHARLOTTE   \n",
              "1  2022080S13114    2022      18    SI       WA  CHARLOTTE   \n",
              "2  2022080S13114    2022      18    SI       WA  CHARLOTTE   \n",
              "3  2022080S13114    2022      18    SI       WA  CHARLOTTE   \n",
              "4  2022080S13114    2022      18    SI       WA  CHARLOTTE   \n",
              "\n",
              "              ISO_TIME NATURE    LAT     LON  ... BOM_TNUM  BOM_CI  STORM_SPD  \\\n",
              "0  2022-03-20 12:00:00     NR -13.10  113.80  ...   -999.9  -999.9         13   \n",
              "1  2022-03-20 15:00:00     NR -13.22  113.16  ...   -999.9  -999.9         12   \n",
              "2  2022-03-20 18:00:00     NR -13.50  112.60  ...   -999.9  -999.9         13   \n",
              "3  2022-03-20 21:00:00     NR -14.03  112.16  ...   -999.9  -999.9         14   \n",
              "4  2022-03-21 00:00:00     NR -14.60  111.80  ...   -999.9  -999.9         12   \n",
              "\n",
              "  STORM_DR  year  month  day  hour  min  \\\n",
              "0      259  2022      3   20    12    0   \n",
              "1      251  2022      3   20    15    0   \n",
              "2      230  2022      3   20    18    0   \n",
              "3      215  2022      3   20    21    0   \n",
              "4      217  2022      3   21     0    0   \n",
              "\n",
              "                                            geometry  \n",
              "0  LINESTRING (113.80005 -13.10000, 113.16235 -13...  \n",
              "1  LINESTRING (113.16235 -13.22043, 112.59998 -13...  \n",
              "2  LINESTRING (112.59998 -13.50000, 112.16272 -14...  \n",
              "3  LINESTRING (112.16272 -14.02730, 111.80005 -14...  \n",
              "4  LINESTRING (111.80005 -14.60000, 111.42725 -14...  \n",
              "\n",
              "[5 rows x 36 columns]"
            ],
            "text/html": [
              "\n",
              "  <div id=\"df-c4d12edc-9d68-4447-82e3-bdac4b41e990\">\n",
              "    <div class=\"colab-df-container\">\n",
              "      <div>\n",
              "<style scoped>\n",
              "    .dataframe tbody tr th:only-of-type {\n",
              "        vertical-align: middle;\n",
              "    }\n",
              "\n",
              "    .dataframe tbody tr th {\n",
              "        vertical-align: top;\n",
              "    }\n",
              "\n",
              "    .dataframe thead th {\n",
              "        text-align: right;\n",
              "    }\n",
              "</style>\n",
              "<table border=\"1\" class=\"dataframe\">\n",
              "  <thead>\n",
              "    <tr style=\"text-align: right;\">\n",
              "      <th></th>\n",
              "      <th>SID</th>\n",
              "      <th>SEASON</th>\n",
              "      <th>NUMBER</th>\n",
              "      <th>BASIN</th>\n",
              "      <th>SUBBASIN</th>\n",
              "      <th>NAME</th>\n",
              "      <th>ISO_TIME</th>\n",
              "      <th>NATURE</th>\n",
              "      <th>LAT</th>\n",
              "      <th>LON</th>\n",
              "      <th>...</th>\n",
              "      <th>BOM_TNUM</th>\n",
              "      <th>BOM_CI</th>\n",
              "      <th>STORM_SPD</th>\n",
              "      <th>STORM_DR</th>\n",
              "      <th>year</th>\n",
              "      <th>month</th>\n",
              "      <th>day</th>\n",
              "      <th>hour</th>\n",
              "      <th>min</th>\n",
              "      <th>geometry</th>\n",
              "    </tr>\n",
              "  </thead>\n",
              "  <tbody>\n",
              "    <tr>\n",
              "      <th>0</th>\n",
              "      <td>2022080S13114</td>\n",
              "      <td>2022</td>\n",
              "      <td>18</td>\n",
              "      <td>SI</td>\n",
              "      <td>WA</td>\n",
              "      <td>CHARLOTTE</td>\n",
              "      <td>2022-03-20 12:00:00</td>\n",
              "      <td>NR</td>\n",
              "      <td>-13.10</td>\n",
              "      <td>113.80</td>\n",
              "      <td>...</td>\n",
              "      <td>-999.9</td>\n",
              "      <td>-999.9</td>\n",
              "      <td>13</td>\n",
              "      <td>259</td>\n",
              "      <td>2022</td>\n",
              "      <td>3</td>\n",
              "      <td>20</td>\n",
              "      <td>12</td>\n",
              "      <td>0</td>\n",
              "      <td>LINESTRING (113.80005 -13.10000, 113.16235 -13...</td>\n",
              "    </tr>\n",
              "    <tr>\n",
              "      <th>1</th>\n",
              "      <td>2022080S13114</td>\n",
              "      <td>2022</td>\n",
              "      <td>18</td>\n",
              "      <td>SI</td>\n",
              "      <td>WA</td>\n",
              "      <td>CHARLOTTE</td>\n",
              "      <td>2022-03-20 15:00:00</td>\n",
              "      <td>NR</td>\n",
              "      <td>-13.22</td>\n",
              "      <td>113.16</td>\n",
              "      <td>...</td>\n",
              "      <td>-999.9</td>\n",
              "      <td>-999.9</td>\n",
              "      <td>12</td>\n",
              "      <td>251</td>\n",
              "      <td>2022</td>\n",
              "      <td>3</td>\n",
              "      <td>20</td>\n",
              "      <td>15</td>\n",
              "      <td>0</td>\n",
              "      <td>LINESTRING (113.16235 -13.22043, 112.59998 -13...</td>\n",
              "    </tr>\n",
              "    <tr>\n",
              "      <th>2</th>\n",
              "      <td>2022080S13114</td>\n",
              "      <td>2022</td>\n",
              "      <td>18</td>\n",
              "      <td>SI</td>\n",
              "      <td>WA</td>\n",
              "      <td>CHARLOTTE</td>\n",
              "      <td>2022-03-20 18:00:00</td>\n",
              "      <td>NR</td>\n",
              "      <td>-13.50</td>\n",
              "      <td>112.60</td>\n",
              "      <td>...</td>\n",
              "      <td>-999.9</td>\n",
              "      <td>-999.9</td>\n",
              "      <td>13</td>\n",
              "      <td>230</td>\n",
              "      <td>2022</td>\n",
              "      <td>3</td>\n",
              "      <td>20</td>\n",
              "      <td>18</td>\n",
              "      <td>0</td>\n",
              "      <td>LINESTRING (112.59998 -13.50000, 112.16272 -14...</td>\n",
              "    </tr>\n",
              "    <tr>\n",
              "      <th>3</th>\n",
              "      <td>2022080S13114</td>\n",
              "      <td>2022</td>\n",
              "      <td>18</td>\n",
              "      <td>SI</td>\n",
              "      <td>WA</td>\n",
              "      <td>CHARLOTTE</td>\n",
              "      <td>2022-03-20 21:00:00</td>\n",
              "      <td>NR</td>\n",
              "      <td>-14.03</td>\n",
              "      <td>112.16</td>\n",
              "      <td>...</td>\n",
              "      <td>-999.9</td>\n",
              "      <td>-999.9</td>\n",
              "      <td>14</td>\n",
              "      <td>215</td>\n",
              "      <td>2022</td>\n",
              "      <td>3</td>\n",
              "      <td>20</td>\n",
              "      <td>21</td>\n",
              "      <td>0</td>\n",
              "      <td>LINESTRING (112.16272 -14.02730, 111.80005 -14...</td>\n",
              "    </tr>\n",
              "    <tr>\n",
              "      <th>4</th>\n",
              "      <td>2022080S13114</td>\n",
              "      <td>2022</td>\n",
              "      <td>18</td>\n",
              "      <td>SI</td>\n",
              "      <td>WA</td>\n",
              "      <td>CHARLOTTE</td>\n",
              "      <td>2022-03-21 00:00:00</td>\n",
              "      <td>NR</td>\n",
              "      <td>-14.60</td>\n",
              "      <td>111.80</td>\n",
              "      <td>...</td>\n",
              "      <td>-999.9</td>\n",
              "      <td>-999.9</td>\n",
              "      <td>12</td>\n",
              "      <td>217</td>\n",
              "      <td>2022</td>\n",
              "      <td>3</td>\n",
              "      <td>21</td>\n",
              "      <td>0</td>\n",
              "      <td>0</td>\n",
              "      <td>LINESTRING (111.80005 -14.60000, 111.42725 -14...</td>\n",
              "    </tr>\n",
              "  </tbody>\n",
              "</table>\n",
              "<p>5 rows × 36 columns</p>\n",
              "</div>\n",
              "      <button class=\"colab-df-convert\" onclick=\"convertToInteractive('df-c4d12edc-9d68-4447-82e3-bdac4b41e990')\"\n",
              "              title=\"Convert this dataframe to an interactive table.\"\n",
              "              style=\"display:none;\">\n",
              "        \n",
              "  <svg xmlns=\"http://www.w3.org/2000/svg\" height=\"24px\"viewBox=\"0 0 24 24\"\n",
              "       width=\"24px\">\n",
              "    <path d=\"M0 0h24v24H0V0z\" fill=\"none\"/>\n",
              "    <path d=\"M18.56 5.44l.94 2.06.94-2.06 2.06-.94-2.06-.94-.94-2.06-.94 2.06-2.06.94zm-11 1L8.5 8.5l.94-2.06 2.06-.94-2.06-.94L8.5 2.5l-.94 2.06-2.06.94zm10 10l.94 2.06.94-2.06 2.06-.94-2.06-.94-.94-2.06-.94 2.06-2.06.94z\"/><path d=\"M17.41 7.96l-1.37-1.37c-.4-.4-.92-.59-1.43-.59-.52 0-1.04.2-1.43.59L10.3 9.45l-7.72 7.72c-.78.78-.78 2.05 0 2.83L4 21.41c.39.39.9.59 1.41.59.51 0 1.02-.2 1.41-.59l7.78-7.78 2.81-2.81c.8-.78.8-2.07 0-2.86zM5.41 20L4 18.59l7.72-7.72 1.47 1.35L5.41 20z\"/>\n",
              "  </svg>\n",
              "      </button>\n",
              "      \n",
              "  <style>\n",
              "    .colab-df-container {\n",
              "      display:flex;\n",
              "      flex-wrap:wrap;\n",
              "      gap: 12px;\n",
              "    }\n",
              "\n",
              "    .colab-df-convert {\n",
              "      background-color: #E8F0FE;\n",
              "      border: none;\n",
              "      border-radius: 50%;\n",
              "      cursor: pointer;\n",
              "      display: none;\n",
              "      fill: #1967D2;\n",
              "      height: 32px;\n",
              "      padding: 0 0 0 0;\n",
              "      width: 32px;\n",
              "    }\n",
              "\n",
              "    .colab-df-convert:hover {\n",
              "      background-color: #E2EBFA;\n",
              "      box-shadow: 0px 1px 2px rgba(60, 64, 67, 0.3), 0px 1px 3px 1px rgba(60, 64, 67, 0.15);\n",
              "      fill: #174EA6;\n",
              "    }\n",
              "\n",
              "    [theme=dark] .colab-df-convert {\n",
              "      background-color: #3B4455;\n",
              "      fill: #D2E3FC;\n",
              "    }\n",
              "\n",
              "    [theme=dark] .colab-df-convert:hover {\n",
              "      background-color: #434B5C;\n",
              "      box-shadow: 0px 1px 3px 1px rgba(0, 0, 0, 0.15);\n",
              "      filter: drop-shadow(0px 1px 2px rgba(0, 0, 0, 0.3));\n",
              "      fill: #FFFFFF;\n",
              "    }\n",
              "  </style>\n",
              "\n",
              "      <script>\n",
              "        const buttonEl =\n",
              "          document.querySelector('#df-c4d12edc-9d68-4447-82e3-bdac4b41e990 button.colab-df-convert');\n",
              "        buttonEl.style.display =\n",
              "          google.colab.kernel.accessAllowed ? 'block' : 'none';\n",
              "\n",
              "        async function convertToInteractive(key) {\n",
              "          const element = document.querySelector('#df-c4d12edc-9d68-4447-82e3-bdac4b41e990');\n",
              "          const dataTable =\n",
              "            await google.colab.kernel.invokeFunction('convertToInteractive',\n",
              "                                                     [key], {});\n",
              "          if (!dataTable) return;\n",
              "\n",
              "          const docLinkHtml = 'Like what you see? Visit the ' +\n",
              "            '<a target=\"_blank\" href=https://colab.research.google.com/notebooks/data_table.ipynb>data table notebook</a>'\n",
              "            + ' to learn more about interactive tables.';\n",
              "          element.innerHTML = '';\n",
              "          dataTable['output_type'] = 'display_data';\n",
              "          await google.colab.output.renderOutput(dataTable, element);\n",
              "          const docLink = document.createElement('div');\n",
              "          docLink.innerHTML = docLinkHtml;\n",
              "          element.appendChild(docLink);\n",
              "        }\n",
              "      </script>\n",
              "    </div>\n",
              "  </div>\n",
              "  "
            ]
          },
          "metadata": {},
          "execution_count": 21
        }
      ]
    },
    {
      "cell_type": "code",
      "source": [
        "df1.columns"
      ],
      "metadata": {
        "colab": {
          "base_uri": "https://localhost:8080/"
        },
        "id": "9IzwGLESyQs3",
        "outputId": "7cc533e7-c0db-4b09-fced-b0ee85e83761"
      },
      "execution_count": 84,
      "outputs": [
        {
          "output_type": "execute_result",
          "data": {
            "text/plain": [
              "Index(['SID', 'SEASON', 'NUMBER', 'BASIN', 'SUBBASIN', 'NAME', 'ISO_TIME',\n",
              "       'NATURE', 'LAT', 'LON', 'TRACK_TYPE', 'DIST2LAND', 'LANDFALL', 'IFLAG',\n",
              "       'USA_ATCFID', 'USA_LAT', 'USA_LON', 'USA_WIND', 'USA_PRES', 'USA_SSHS',\n",
              "       'USA_POCI', 'USA_ROCI', 'USA_RMW', 'NEW_CI', 'REU_TNUM', 'REU_CI',\n",
              "       'BOM_TNUM', 'BOM_CI', 'STORM_SPD', 'STORM_DR', 'year', 'month', 'day',\n",
              "       'hour', 'min', 'geometry'],\n",
              "      dtype='object')"
            ]
          },
          "metadata": {},
          "execution_count": 84
        }
      ]
    },
    {
      "cell_type": "markdown",
      "source": [
        "###last 3 years dataset"
      ],
      "metadata": {
        "id": "8qlv2zHLwysh"
      }
    },
    {
      "cell_type": "code",
      "source": [
        "shapefile_path = r\"/content/drive/MyDrive/Task2/last3years/IBTrACS.last3years.list.v04r00.lines.shp\"\n",
        "df2 = gpd.read_file(shapefile_path)"
      ],
      "metadata": {
        "id": "0OUwgaADw2qE"
      },
      "execution_count": 23,
      "outputs": []
    },
    {
      "cell_type": "code",
      "source": [
        "preprocess(df2)"
      ],
      "metadata": {
        "colab": {
          "base_uri": "https://localhost:8080/"
        },
        "id": "-HhOYV9Uxnra",
        "outputId": "d5508358-7dee-4ec0-bd9d-e68d0763d86b"
      },
      "execution_count": 26,
      "outputs": [
        {
          "output_type": "stream",
          "name": "stdout",
          "text": [
            "Dropped columns : {drop_cols}\n"
          ]
        }
      ]
    },
    {
      "cell_type": "code",
      "source": [
        "df2.columns"
      ],
      "metadata": {
        "colab": {
          "base_uri": "https://localhost:8080/"
        },
        "id": "biRJY3sXy6zg",
        "outputId": "c20a9dbe-65f4-41e7-e1af-05682bd4d70c"
      },
      "execution_count": 27,
      "outputs": [
        {
          "output_type": "execute_result",
          "data": {
            "text/plain": [
              "Index(['SID', 'SEASON', 'NUMBER', 'BASIN', 'SUBBASIN', 'NAME', 'ISO_TIME',\n",
              "       'NATURE', 'LAT', 'LON',\n",
              "       ...\n",
              "       'USA_SEA_SW', 'USA_SEA_NW', 'STORM_SPD', 'STORM_DR', 'year', 'month',\n",
              "       'day', 'hour', 'min', 'geometry'],\n",
              "      dtype='object', length=169)"
            ]
          },
          "metadata": {},
          "execution_count": 27
        }
      ]
    },
    {
      "cell_type": "markdown",
      "source": [
        "###last 40 year dataset"
      ],
      "metadata": {
        "id": "oVvFthL-zIM5"
      }
    },
    {
      "cell_type": "code",
      "source": [
        "shapefile_path = r\"/content/drive/MyDrive/Task2/since1980/IBTrACS.since1980.list.v04r00.lines.shp\"\n",
        "df3 = gpd.read_file(shapefile_path)"
      ],
      "metadata": {
        "id": "JK4zR26MzLyq"
      },
      "execution_count": 62,
      "outputs": []
    },
    {
      "cell_type": "code",
      "source": [
        "preprocess(df3)"
      ],
      "metadata": {
        "colab": {
          "base_uri": "https://localhost:8080/"
        },
        "id": "dNkuEU2YzYeU",
        "outputId": "d15acf6b-a4bf-40f0-9406-162ddfa5e7d4"
      },
      "execution_count": 124,
      "outputs": [
        {
          "output_type": "stream",
          "name": "stdout",
          "text": [
            "No null values found\n"
          ]
        }
      ]
    },
    {
      "cell_type": "code",
      "source": [
        "df3.columns"
      ],
      "metadata": {
        "colab": {
          "base_uri": "https://localhost:8080/"
        },
        "id": "b91TsmzbzcMz",
        "outputId": "461374bc-202c-4abf-e57f-9e8e68d06501"
      },
      "execution_count": 68,
      "outputs": [
        {
          "output_type": "execute_result",
          "data": {
            "text/plain": [
              "Index(['SID', 'SEASON', 'NUMBER', 'BASIN', 'SUBBASIN', 'NAME', 'ISO_TIME',\n",
              "       'NATURE', 'LAT', 'LON', 'TRACK_TYPE', 'DIST2LAND', 'LANDFALL', 'IFLAG',\n",
              "       'USA_ATCFID', 'USA_LAT', 'USA_LON', 'USA_WIND', 'USA_PRES', 'USA_SSHS',\n",
              "       'USA_POCI', 'USA_ROCI', 'USA_RMW', 'NEW_CI', 'REU_TNUM', 'REU_CI',\n",
              "       'BOM_TNUM', 'BOM_CI', 'STORM_SPD', 'STORM_DR', 'year', 'month', 'day',\n",
              "       'hour', 'min', 'geometry'],\n",
              "      dtype='object')"
            ]
          },
          "metadata": {},
          "execution_count": 68
        }
      ]
    },
    {
      "cell_type": "markdown",
      "source": [
        "Store the CSV"
      ],
      "metadata": {
        "id": "8geVbw_cz9s-"
      }
    },
    {
      "cell_type": "code",
      "source": [
        "df1.to_csv(r\"/content/drive/MyDrive/Task2/list.csv\")"
      ],
      "metadata": {
        "id": "6kTWbAX3usv1"
      },
      "execution_count": 125,
      "outputs": []
    },
    {
      "cell_type": "code",
      "source": [
        "df2.to_csv(r\"/content/drive/MyDrive/Task2/last3.csv\")"
      ],
      "metadata": {
        "id": "NOA8T-we0AEF"
      },
      "execution_count": 126,
      "outputs": []
    },
    {
      "cell_type": "code",
      "source": [
        "df3.to_csv(r\"/content/drive/MyDrive/Task2/last40.csv\")"
      ],
      "metadata": {
        "id": "ZLRq9gXk0ZgO"
      },
      "execution_count": 127,
      "outputs": []
    },
    {
      "cell_type": "markdown",
      "source": [
        "#ETL Operation"
      ],
      "metadata": {
        "id": "S2Jn4rHfuhoN"
      }
    },
    {
      "cell_type": "code",
      "source": [
        "import glob \n",
        "import pandas as pd \n",
        "import xml.etree.ElementTree as ET \n",
        "from datetime import datetime"
      ],
      "metadata": {
        "id": "hWtj-FqMt8u9"
      },
      "execution_count": 80,
      "outputs": []
    },
    {
      "cell_type": "code",
      "source": [
        "def extract_from_csv(file_to_process): \n",
        "    dataframe = pd.read_csv(file_to_process) \n",
        "    return dataframe"
      ],
      "metadata": {
        "id": "cWkSFsXoukm3"
      },
      "execution_count": 81,
      "outputs": []
    },
    {
      "cell_type": "code",
      "source": [
        "def extract():\n",
        "      d=pd.DataFrame()\n",
        "      for csvfile in glob.glob(\"/content/drive/MyDrive/Task2/*.csv\"):\n",
        "          d = d.append(extract_from_csv(csvfile), ignore_index=True)\n",
        "      return d"
      ],
      "metadata": {
        "id": "HZCfLo9su3hm"
      },
      "execution_count": 101,
      "outputs": []
    },
    {
      "cell_type": "code",
      "source": [
        "def transform(df):\n",
        "      df[\"Datetime\"] = df['year'].astype(str) + '-' + df['month'].astype(str)+'-'+df['day'].astype(str)+' '+df['hour'].astype(str)+'-'+df['min'].astype(str)\n",
        "      df['Datetime'] = pd.to_datetime(df['Datetime'], format=\"%Y-%m-%d %H-%M\")\n",
        "      df.drop(columns = ['month','day','year','hour','min'],inplace = True)\n",
        "      return df"
      ],
      "metadata": {
        "id": "UQ5IHiQL0yRj"
      },
      "execution_count": 29,
      "outputs": []
    },
    {
      "cell_type": "code",
      "source": [
        "def load(targetfile,data_to_load):\n",
        "    data_to_load.to_csv(targetfile)"
      ],
      "metadata": {
        "id": "KSVscPfh1N-R"
      },
      "execution_count": 85,
      "outputs": []
    },
    {
      "cell_type": "code",
      "source": [
        "extracted_data = extract()"
      ],
      "metadata": {
        "id": "T7EiJvBo1Zby"
      },
      "execution_count": 128,
      "outputs": []
    },
    {
      "cell_type": "code",
      "source": [
        "for csvfile in glob.glob(\"/content/drive/MyDrive/Task2/*.csv\"):\n",
        "  print(csvfile)"
      ],
      "metadata": {
        "colab": {
          "base_uri": "https://localhost:8080/"
        },
        "id": "r4wb1NeC1v09",
        "outputId": "c10da8b1-ce2c-4b16-b028-3a6d50010d6e"
      },
      "execution_count": 129,
      "outputs": [
        {
          "output_type": "stream",
          "name": "stdout",
          "text": [
            "/content/drive/MyDrive/Task2/list.csv\n",
            "/content/drive/MyDrive/Task2/last3.csv\n",
            "/content/drive/MyDrive/Task2/last40.csv\n"
          ]
        }
      ]
    },
    {
      "cell_type": "code",
      "source": [
        "transformed_data = transform(extracted_data)"
      ],
      "metadata": {
        "id": "ZkUWA2Oe1cXd"
      },
      "execution_count": 130,
      "outputs": []
    },
    {
      "cell_type": "code",
      "source": [
        "transformed_data"
      ],
      "metadata": {
        "colab": {
          "base_uri": "https://localhost:8080/",
          "height": 869
        },
        "id": "nV1Hn2qb4UT7",
        "outputId": "3c8e80bc-1bb4-4bc6-ae17-1dfb06a4c5a7"
      },
      "execution_count": 131,
      "outputs": [
        {
          "output_type": "execute_result",
          "data": {
            "text/plain": [
              "        Unnamed: 0            SID  SEASON  NUMBER BASIN SUBBASIN       NAME  \\\n",
              "0                0  2022080S13114    2022      18    SI       WA  CHARLOTTE   \n",
              "1                1  2022080S13114    2022      18    SI       WA  CHARLOTTE   \n",
              "2                2  2022080S13114    2022      18    SI       WA  CHARLOTTE   \n",
              "3                3  2022080S13114    2022      18    SI       WA  CHARLOTTE   \n",
              "4                4  2022080S13114    2022      18    SI       WA  CHARLOTTE   \n",
              "...            ...            ...     ...     ...   ...      ...        ...   \n",
              "294280      275786  2022083S13076    2022      19    SI       MM     HALIMA   \n",
              "294281      275787  2022083S13076    2022      19    SI       MM     HALIMA   \n",
              "294282      275788  2022083S13076    2022      19    SI       MM     HALIMA   \n",
              "294283      275789  2022090N12109    2022      20    WP       MM  NOT_NAMED   \n",
              "294284      275790  2022090N12109    2022      20    WP       MM  NOT_NAMED   \n",
              "\n",
              "                   ISO_TIME NATURE    LAT  ...  BOM_CI STORM_SPD  STORM_DR  \\\n",
              "0       2022-03-20 12:00:00     NR -13.10  ...  -999.9        13       259   \n",
              "1       2022-03-20 15:00:00     NR -13.22  ...  -999.9        12       251   \n",
              "2       2022-03-20 18:00:00     NR -13.50  ...  -999.9        13       230   \n",
              "3       2022-03-20 21:00:00     NR -14.03  ...  -999.9        14       215   \n",
              "4       2022-03-21 00:00:00     NR -14.60  ...  -999.9        12       217   \n",
              "...                     ...    ...    ...  ...     ...       ...       ...   \n",
              "294280  2022-03-30 15:00:00     NR -19.61  ...  -999.9         3        44   \n",
              "294281  2022-03-30 18:00:00     NR -19.50  ...  -999.9         5        65   \n",
              "294282  2022-03-30 21:00:00     NR -19.40  ...  -999.9         8        75   \n",
              "294283  2022-03-30 18:00:00     NR  12.30  ...  -999.9         5         2   \n",
              "294284  2022-03-30 21:00:00     NR  12.55  ...  -999.9         5         2   \n",
              "\n",
              "        year month day  hour  min  \\\n",
              "0       2022     3  20    12    0   \n",
              "1       2022     3  20    15    0   \n",
              "2       2022     3  20    18    0   \n",
              "3       2022     3  20    21    0   \n",
              "4       2022     3  21     0    0   \n",
              "...      ...   ...  ..   ...  ...   \n",
              "294280  2022     3  30    15    0   \n",
              "294281  2022     3  30    18    0   \n",
              "294282  2022     3  30    21    0   \n",
              "294283  2022     3  30    18    0   \n",
              "294284  2022     3  30    21    0   \n",
              "\n",
              "                                                 geometry            Datetime  \n",
              "0       LINESTRING (113.800048828125 -13.1000013351440... 2022-03-20 12:00:00  \n",
              "1       LINESTRING (113.162353515625 -13.2204332351684... 2022-03-20 15:00:00  \n",
              "2       LINESTRING (112.5999755859375 -13.499999046325... 2022-03-20 18:00:00  \n",
              "3       LINESTRING (112.1627197265625 -14.027301788330... 2022-03-20 21:00:00  \n",
              "4       LINESTRING (111.800048828125 -14.6000003814697... 2022-03-21 00:00:00  \n",
              "...                                                   ...                 ...  \n",
              "294280  LINESTRING (82.35498046875 -19.60733985900879,... 2022-03-30 15:00:00  \n",
              "294281  LINESTRING (82.5 -19.5, 82.8402099609375 -19.3... 2022-03-30 18:00:00  \n",
              "294282  LINESTRING (82.8402099609375 -19.3978767395019... 2022-03-30 21:00:00  \n",
              "294283  LINESTRING (109.199951171875 12.30000114440918... 2022-03-30 18:00:00  \n",
              "294284  LINESTRING (109.199951171875 12.55000209808349... 2022-03-30 21:00:00  \n",
              "\n",
              "[294285 rows x 38 columns]"
            ],
            "text/html": [
              "\n",
              "  <div id=\"df-fb9f9d3e-33c4-43c5-825c-73de7f01630a\">\n",
              "    <div class=\"colab-df-container\">\n",
              "      <div>\n",
              "<style scoped>\n",
              "    .dataframe tbody tr th:only-of-type {\n",
              "        vertical-align: middle;\n",
              "    }\n",
              "\n",
              "    .dataframe tbody tr th {\n",
              "        vertical-align: top;\n",
              "    }\n",
              "\n",
              "    .dataframe thead th {\n",
              "        text-align: right;\n",
              "    }\n",
              "</style>\n",
              "<table border=\"1\" class=\"dataframe\">\n",
              "  <thead>\n",
              "    <tr style=\"text-align: right;\">\n",
              "      <th></th>\n",
              "      <th>Unnamed: 0</th>\n",
              "      <th>SID</th>\n",
              "      <th>SEASON</th>\n",
              "      <th>NUMBER</th>\n",
              "      <th>BASIN</th>\n",
              "      <th>SUBBASIN</th>\n",
              "      <th>NAME</th>\n",
              "      <th>ISO_TIME</th>\n",
              "      <th>NATURE</th>\n",
              "      <th>LAT</th>\n",
              "      <th>...</th>\n",
              "      <th>BOM_CI</th>\n",
              "      <th>STORM_SPD</th>\n",
              "      <th>STORM_DR</th>\n",
              "      <th>year</th>\n",
              "      <th>month</th>\n",
              "      <th>day</th>\n",
              "      <th>hour</th>\n",
              "      <th>min</th>\n",
              "      <th>geometry</th>\n",
              "      <th>Datetime</th>\n",
              "    </tr>\n",
              "  </thead>\n",
              "  <tbody>\n",
              "    <tr>\n",
              "      <th>0</th>\n",
              "      <td>0</td>\n",
              "      <td>2022080S13114</td>\n",
              "      <td>2022</td>\n",
              "      <td>18</td>\n",
              "      <td>SI</td>\n",
              "      <td>WA</td>\n",
              "      <td>CHARLOTTE</td>\n",
              "      <td>2022-03-20 12:00:00</td>\n",
              "      <td>NR</td>\n",
              "      <td>-13.10</td>\n",
              "      <td>...</td>\n",
              "      <td>-999.9</td>\n",
              "      <td>13</td>\n",
              "      <td>259</td>\n",
              "      <td>2022</td>\n",
              "      <td>3</td>\n",
              "      <td>20</td>\n",
              "      <td>12</td>\n",
              "      <td>0</td>\n",
              "      <td>LINESTRING (113.800048828125 -13.1000013351440...</td>\n",
              "      <td>2022-03-20 12:00:00</td>\n",
              "    </tr>\n",
              "    <tr>\n",
              "      <th>1</th>\n",
              "      <td>1</td>\n",
              "      <td>2022080S13114</td>\n",
              "      <td>2022</td>\n",
              "      <td>18</td>\n",
              "      <td>SI</td>\n",
              "      <td>WA</td>\n",
              "      <td>CHARLOTTE</td>\n",
              "      <td>2022-03-20 15:00:00</td>\n",
              "      <td>NR</td>\n",
              "      <td>-13.22</td>\n",
              "      <td>...</td>\n",
              "      <td>-999.9</td>\n",
              "      <td>12</td>\n",
              "      <td>251</td>\n",
              "      <td>2022</td>\n",
              "      <td>3</td>\n",
              "      <td>20</td>\n",
              "      <td>15</td>\n",
              "      <td>0</td>\n",
              "      <td>LINESTRING (113.162353515625 -13.2204332351684...</td>\n",
              "      <td>2022-03-20 15:00:00</td>\n",
              "    </tr>\n",
              "    <tr>\n",
              "      <th>2</th>\n",
              "      <td>2</td>\n",
              "      <td>2022080S13114</td>\n",
              "      <td>2022</td>\n",
              "      <td>18</td>\n",
              "      <td>SI</td>\n",
              "      <td>WA</td>\n",
              "      <td>CHARLOTTE</td>\n",
              "      <td>2022-03-20 18:00:00</td>\n",
              "      <td>NR</td>\n",
              "      <td>-13.50</td>\n",
              "      <td>...</td>\n",
              "      <td>-999.9</td>\n",
              "      <td>13</td>\n",
              "      <td>230</td>\n",
              "      <td>2022</td>\n",
              "      <td>3</td>\n",
              "      <td>20</td>\n",
              "      <td>18</td>\n",
              "      <td>0</td>\n",
              "      <td>LINESTRING (112.5999755859375 -13.499999046325...</td>\n",
              "      <td>2022-03-20 18:00:00</td>\n",
              "    </tr>\n",
              "    <tr>\n",
              "      <th>3</th>\n",
              "      <td>3</td>\n",
              "      <td>2022080S13114</td>\n",
              "      <td>2022</td>\n",
              "      <td>18</td>\n",
              "      <td>SI</td>\n",
              "      <td>WA</td>\n",
              "      <td>CHARLOTTE</td>\n",
              "      <td>2022-03-20 21:00:00</td>\n",
              "      <td>NR</td>\n",
              "      <td>-14.03</td>\n",
              "      <td>...</td>\n",
              "      <td>-999.9</td>\n",
              "      <td>14</td>\n",
              "      <td>215</td>\n",
              "      <td>2022</td>\n",
              "      <td>3</td>\n",
              "      <td>20</td>\n",
              "      <td>21</td>\n",
              "      <td>0</td>\n",
              "      <td>LINESTRING (112.1627197265625 -14.027301788330...</td>\n",
              "      <td>2022-03-20 21:00:00</td>\n",
              "    </tr>\n",
              "    <tr>\n",
              "      <th>4</th>\n",
              "      <td>4</td>\n",
              "      <td>2022080S13114</td>\n",
              "      <td>2022</td>\n",
              "      <td>18</td>\n",
              "      <td>SI</td>\n",
              "      <td>WA</td>\n",
              "      <td>CHARLOTTE</td>\n",
              "      <td>2022-03-21 00:00:00</td>\n",
              "      <td>NR</td>\n",
              "      <td>-14.60</td>\n",
              "      <td>...</td>\n",
              "      <td>-999.9</td>\n",
              "      <td>12</td>\n",
              "      <td>217</td>\n",
              "      <td>2022</td>\n",
              "      <td>3</td>\n",
              "      <td>21</td>\n",
              "      <td>0</td>\n",
              "      <td>0</td>\n",
              "      <td>LINESTRING (111.800048828125 -14.6000003814697...</td>\n",
              "      <td>2022-03-21 00:00:00</td>\n",
              "    </tr>\n",
              "    <tr>\n",
              "      <th>...</th>\n",
              "      <td>...</td>\n",
              "      <td>...</td>\n",
              "      <td>...</td>\n",
              "      <td>...</td>\n",
              "      <td>...</td>\n",
              "      <td>...</td>\n",
              "      <td>...</td>\n",
              "      <td>...</td>\n",
              "      <td>...</td>\n",
              "      <td>...</td>\n",
              "      <td>...</td>\n",
              "      <td>...</td>\n",
              "      <td>...</td>\n",
              "      <td>...</td>\n",
              "      <td>...</td>\n",
              "      <td>...</td>\n",
              "      <td>...</td>\n",
              "      <td>...</td>\n",
              "      <td>...</td>\n",
              "      <td>...</td>\n",
              "      <td>...</td>\n",
              "    </tr>\n",
              "    <tr>\n",
              "      <th>294280</th>\n",
              "      <td>275786</td>\n",
              "      <td>2022083S13076</td>\n",
              "      <td>2022</td>\n",
              "      <td>19</td>\n",
              "      <td>SI</td>\n",
              "      <td>MM</td>\n",
              "      <td>HALIMA</td>\n",
              "      <td>2022-03-30 15:00:00</td>\n",
              "      <td>NR</td>\n",
              "      <td>-19.61</td>\n",
              "      <td>...</td>\n",
              "      <td>-999.9</td>\n",
              "      <td>3</td>\n",
              "      <td>44</td>\n",
              "      <td>2022</td>\n",
              "      <td>3</td>\n",
              "      <td>30</td>\n",
              "      <td>15</td>\n",
              "      <td>0</td>\n",
              "      <td>LINESTRING (82.35498046875 -19.60733985900879,...</td>\n",
              "      <td>2022-03-30 15:00:00</td>\n",
              "    </tr>\n",
              "    <tr>\n",
              "      <th>294281</th>\n",
              "      <td>275787</td>\n",
              "      <td>2022083S13076</td>\n",
              "      <td>2022</td>\n",
              "      <td>19</td>\n",
              "      <td>SI</td>\n",
              "      <td>MM</td>\n",
              "      <td>HALIMA</td>\n",
              "      <td>2022-03-30 18:00:00</td>\n",
              "      <td>NR</td>\n",
              "      <td>-19.50</td>\n",
              "      <td>...</td>\n",
              "      <td>-999.9</td>\n",
              "      <td>5</td>\n",
              "      <td>65</td>\n",
              "      <td>2022</td>\n",
              "      <td>3</td>\n",
              "      <td>30</td>\n",
              "      <td>18</td>\n",
              "      <td>0</td>\n",
              "      <td>LINESTRING (82.5 -19.5, 82.8402099609375 -19.3...</td>\n",
              "      <td>2022-03-30 18:00:00</td>\n",
              "    </tr>\n",
              "    <tr>\n",
              "      <th>294282</th>\n",
              "      <td>275788</td>\n",
              "      <td>2022083S13076</td>\n",
              "      <td>2022</td>\n",
              "      <td>19</td>\n",
              "      <td>SI</td>\n",
              "      <td>MM</td>\n",
              "      <td>HALIMA</td>\n",
              "      <td>2022-03-30 21:00:00</td>\n",
              "      <td>NR</td>\n",
              "      <td>-19.40</td>\n",
              "      <td>...</td>\n",
              "      <td>-999.9</td>\n",
              "      <td>8</td>\n",
              "      <td>75</td>\n",
              "      <td>2022</td>\n",
              "      <td>3</td>\n",
              "      <td>30</td>\n",
              "      <td>21</td>\n",
              "      <td>0</td>\n",
              "      <td>LINESTRING (82.8402099609375 -19.3978767395019...</td>\n",
              "      <td>2022-03-30 21:00:00</td>\n",
              "    </tr>\n",
              "    <tr>\n",
              "      <th>294283</th>\n",
              "      <td>275789</td>\n",
              "      <td>2022090N12109</td>\n",
              "      <td>2022</td>\n",
              "      <td>20</td>\n",
              "      <td>WP</td>\n",
              "      <td>MM</td>\n",
              "      <td>NOT_NAMED</td>\n",
              "      <td>2022-03-30 18:00:00</td>\n",
              "      <td>NR</td>\n",
              "      <td>12.30</td>\n",
              "      <td>...</td>\n",
              "      <td>-999.9</td>\n",
              "      <td>5</td>\n",
              "      <td>2</td>\n",
              "      <td>2022</td>\n",
              "      <td>3</td>\n",
              "      <td>30</td>\n",
              "      <td>18</td>\n",
              "      <td>0</td>\n",
              "      <td>LINESTRING (109.199951171875 12.30000114440918...</td>\n",
              "      <td>2022-03-30 18:00:00</td>\n",
              "    </tr>\n",
              "    <tr>\n",
              "      <th>294284</th>\n",
              "      <td>275790</td>\n",
              "      <td>2022090N12109</td>\n",
              "      <td>2022</td>\n",
              "      <td>20</td>\n",
              "      <td>WP</td>\n",
              "      <td>MM</td>\n",
              "      <td>NOT_NAMED</td>\n",
              "      <td>2022-03-30 21:00:00</td>\n",
              "      <td>NR</td>\n",
              "      <td>12.55</td>\n",
              "      <td>...</td>\n",
              "      <td>-999.9</td>\n",
              "      <td>5</td>\n",
              "      <td>2</td>\n",
              "      <td>2022</td>\n",
              "      <td>3</td>\n",
              "      <td>30</td>\n",
              "      <td>21</td>\n",
              "      <td>0</td>\n",
              "      <td>LINESTRING (109.199951171875 12.55000209808349...</td>\n",
              "      <td>2022-03-30 21:00:00</td>\n",
              "    </tr>\n",
              "  </tbody>\n",
              "</table>\n",
              "<p>294285 rows × 38 columns</p>\n",
              "</div>\n",
              "      <button class=\"colab-df-convert\" onclick=\"convertToInteractive('df-fb9f9d3e-33c4-43c5-825c-73de7f01630a')\"\n",
              "              title=\"Convert this dataframe to an interactive table.\"\n",
              "              style=\"display:none;\">\n",
              "        \n",
              "  <svg xmlns=\"http://www.w3.org/2000/svg\" height=\"24px\"viewBox=\"0 0 24 24\"\n",
              "       width=\"24px\">\n",
              "    <path d=\"M0 0h24v24H0V0z\" fill=\"none\"/>\n",
              "    <path d=\"M18.56 5.44l.94 2.06.94-2.06 2.06-.94-2.06-.94-.94-2.06-.94 2.06-2.06.94zm-11 1L8.5 8.5l.94-2.06 2.06-.94-2.06-.94L8.5 2.5l-.94 2.06-2.06.94zm10 10l.94 2.06.94-2.06 2.06-.94-2.06-.94-.94-2.06-.94 2.06-2.06.94z\"/><path d=\"M17.41 7.96l-1.37-1.37c-.4-.4-.92-.59-1.43-.59-.52 0-1.04.2-1.43.59L10.3 9.45l-7.72 7.72c-.78.78-.78 2.05 0 2.83L4 21.41c.39.39.9.59 1.41.59.51 0 1.02-.2 1.41-.59l7.78-7.78 2.81-2.81c.8-.78.8-2.07 0-2.86zM5.41 20L4 18.59l7.72-7.72 1.47 1.35L5.41 20z\"/>\n",
              "  </svg>\n",
              "      </button>\n",
              "      \n",
              "  <style>\n",
              "    .colab-df-container {\n",
              "      display:flex;\n",
              "      flex-wrap:wrap;\n",
              "      gap: 12px;\n",
              "    }\n",
              "\n",
              "    .colab-df-convert {\n",
              "      background-color: #E8F0FE;\n",
              "      border: none;\n",
              "      border-radius: 50%;\n",
              "      cursor: pointer;\n",
              "      display: none;\n",
              "      fill: #1967D2;\n",
              "      height: 32px;\n",
              "      padding: 0 0 0 0;\n",
              "      width: 32px;\n",
              "    }\n",
              "\n",
              "    .colab-df-convert:hover {\n",
              "      background-color: #E2EBFA;\n",
              "      box-shadow: 0px 1px 2px rgba(60, 64, 67, 0.3), 0px 1px 3px 1px rgba(60, 64, 67, 0.15);\n",
              "      fill: #174EA6;\n",
              "    }\n",
              "\n",
              "    [theme=dark] .colab-df-convert {\n",
              "      background-color: #3B4455;\n",
              "      fill: #D2E3FC;\n",
              "    }\n",
              "\n",
              "    [theme=dark] .colab-df-convert:hover {\n",
              "      background-color: #434B5C;\n",
              "      box-shadow: 0px 1px 3px 1px rgba(0, 0, 0, 0.15);\n",
              "      filter: drop-shadow(0px 1px 2px rgba(0, 0, 0, 0.3));\n",
              "      fill: #FFFFFF;\n",
              "    }\n",
              "  </style>\n",
              "\n",
              "      <script>\n",
              "        const buttonEl =\n",
              "          document.querySelector('#df-fb9f9d3e-33c4-43c5-825c-73de7f01630a button.colab-df-convert');\n",
              "        buttonEl.style.display =\n",
              "          google.colab.kernel.accessAllowed ? 'block' : 'none';\n",
              "\n",
              "        async function convertToInteractive(key) {\n",
              "          const element = document.querySelector('#df-fb9f9d3e-33c4-43c5-825c-73de7f01630a');\n",
              "          const dataTable =\n",
              "            await google.colab.kernel.invokeFunction('convertToInteractive',\n",
              "                                                     [key], {});\n",
              "          if (!dataTable) return;\n",
              "\n",
              "          const docLinkHtml = 'Like what you see? Visit the ' +\n",
              "            '<a target=\"_blank\" href=https://colab.research.google.com/notebooks/data_table.ipynb>data table notebook</a>'\n",
              "            + ' to learn more about interactive tables.';\n",
              "          element.innerHTML = '';\n",
              "          dataTable['output_type'] = 'display_data';\n",
              "          await google.colab.output.renderOutput(dataTable, element);\n",
              "          const docLink = document.createElement('div');\n",
              "          docLink.innerHTML = docLinkHtml;\n",
              "          element.appendChild(docLink);\n",
              "        }\n",
              "      </script>\n",
              "    </div>\n",
              "  </div>\n",
              "  "
            ]
          },
          "metadata": {},
          "execution_count": 131
        }
      ]
    },
    {
      "cell_type": "code",
      "source": [
        "load(\"/content/drive/MyDrive/Task2/final.csv\",transformed_data)"
      ],
      "metadata": {
        "id": "y6ullF4_4QOz"
      },
      "execution_count": 132,
      "outputs": []
    },
    {
      "cell_type": "markdown",
      "source": [
        "#Computing summaries and stats "
      ],
      "metadata": {
        "id": "Ot4otn9B4vP4"
      }
    },
    {
      "cell_type": "code",
      "source": [
        ""
      ],
      "metadata": {
        "id": "Yic8I2z04nUA"
      },
      "execution_count": null,
      "outputs": []
    }
  ]
}